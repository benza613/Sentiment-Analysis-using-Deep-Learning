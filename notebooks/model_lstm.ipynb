{
  "nbformat": 4,
  "nbformat_minor": 0,
  "metadata": {
    "kernelspec": {
      "name": "python3",
      "display_name": "Python 3"
    },
    "pycharm": {
      "stem_cell": {
        "cell_type": "raw",
        "source": [],
        "metadata": {
          "collapsed": false
        }
      }
    },
    "colab": {
      "name": "model_lstm.ipynb",
      "provenance": [],
      "collapsed_sections": [],
      "include_colab_link": true
    }
  },
  "cells": [
    {
      "cell_type": "markdown",
      "metadata": {
        "id": "view-in-github",
        "colab_type": "text"
      },
      "source": [
        "<a href=\"https://colab.research.google.com/github/benza613/Sentiment-Analysis-using-Deep-Learning/blob/master/notebooks/model_lstm.ipynb\" target=\"_parent\"><img src=\"https://colab.research.google.com/assets/colab-badge.svg\" alt=\"Open In Colab\"/></a>"
      ]
    },
    {
      "cell_type": "code",
      "metadata": {
        "id": "wGPgMSbNPpOX",
        "colab_type": "code",
        "colab": {}
      },
      "source": [
        "# create a notebook for LSTM prediction model \n",
        "\n",
        "# 1. Load the chosen dataset and try to see the vocab size \n",
        "# 2. Determine a MAX_VOCAB_SIZE incase you observe a vocab dict that is too large (choose the top/most frequent MAX_VOCAB_SIZE entries / Curse of dimensionality)\n",
        "# 3. Determine a MAX_SEQUENCE LENGTH to vectorize for each review (Note: From splitter usually reviews will be limited to 400 + summary )\n",
        "\n",
        "# DO NOT EDIT/ DELETE THIS BLOCK;\n",
        "\n"
      ],
      "execution_count": 0,
      "outputs": []
    },
    {
      "cell_type": "code",
      "metadata": {
        "id": "YoSwNmKToBLT",
        "colab_type": "code",
        "outputId": "84ec25d0-a039-4796-b88b-e21ae036f407",
        "colab": {
          "base_uri": "https://localhost:8080/",
          "height": 34
        }
      },
      "source": [
        "from google.colab import drive\n",
        "drive.mount('/content/drive')"
      ],
      "execution_count": 8,
      "outputs": [
        {
          "output_type": "stream",
          "text": [
            "Drive already mounted at /content/drive; to attempt to forcibly remount, call drive.mount(\"/content/drive\", force_remount=True).\n"
          ],
          "name": "stdout"
        }
      ]
    },
    {
      "cell_type": "code",
      "metadata": {
        "id": "2qYW78oFoQnP",
        "colab_type": "code",
        "outputId": "e8398850-b8ab-4367-d8f4-58955a70cae0",
        "colab": {
          "base_uri": "https://localhost:8080/",
          "height": 50
        }
      },
      "source": [
        "# set working directory -> you must set the path into which you have uploaded the zipped file\n",
        "# this is required in the case of colab or local \n",
        "%cd /content/drive/My\\ Drive/SNLP\\ Project\n",
        "# %cd Source/repos/Sentiment-Analysis-using-Deep-Learning"
      ],
      "execution_count": 9,
      "outputs": [
        {
          "output_type": "stream",
          "text": [
            "[Errno 2] No such file or directory: '/content/drive/My Drive/SNLP Project'\n",
            "/content/drive/My Drive/SNLP/Sentiment-Analysis-using-Deep-Learning\n"
          ],
          "name": "stdout"
        }
      ]
    },
    {
      "cell_type": "code",
      "metadata": {
        "id": "1q-BzQJ4obkb",
        "colab_type": "code",
        "outputId": "499d29a8-4497-450c-b6c0-b42e9394c6f1",
        "colab": {
          "base_uri": "https://localhost:8080/",
          "height": 655
        }
      },
      "source": [
        "# list content of drive - verify you are where you are supposed to be\n",
        "%ls"
      ],
      "execution_count": 10,
      "outputs": [
        {
          "output_type": "stream",
          "text": [
            " All_Beauty_5.json.gz\n",
            " all_beauty.npy\n",
            " Appliances.json.gz\n",
            " Appliances.npy\n",
            " \u001b[0m\u001b[01;34mBaseline\u001b[0m/\n",
            " baseline.csv\n",
            " BTest_20000_Apr-19-2020_22-50.csv\n",
            " BTest_2000_Apr-19-2020_22-50.csv\n",
            " BTrain_2000_Apr-19-2020_22-40.csv\n",
            " BTrain_2000_Apr-19-2020_22-50.csv\n",
            " CleantData_Apr-03-2020_23-16.zip\n",
            " CleantData_Apr-19-2020_22-22.zip\n",
            " CleantData_Apr-22-2020_01-35.csv\n",
            " CleantData_Apr-22-2020_01-35.zip\n",
            "\u001b[01;34m'CleantData_Apr-22-2020_01-35.zip (Unzipped Files)'\u001b[0m/\n",
            " \u001b[01;34mdata\u001b[0m/\n",
            " \u001b[01;34mData_Balanced_20000_Apr-22-2020_01-39\u001b[0m/\n",
            " \u001b[01;34mData_Balanced_5300_Apr-27-2020_04-43\u001b[0m/\n",
            " \u001b[01;34mdata_pos_neg\u001b[0m/\n",
            " Electronics_5.json.gz\n",
            " electronics_5.npy\n",
            " \u001b[01;34mglove.6B\u001b[0m/\n",
            " \u001b[01;34mglove.840B.300d\u001b[0m/\n",
            " glove.840B.300d.zip\n",
            " \u001b[01;34mModelResults\u001b[0m/\n",
            " \u001b[01;34mnotebookrj\u001b[0m/\n",
            " \u001b[01;34mnotebooks\u001b[0m/\n",
            " README.md\n",
            " \u001b[01;34mreview2\u001b[0m/\n",
            "'Sentiment Analysis - Deep Learning (1).pptx'\n",
            " Test_100000_Apr-19-2020_22-33.csv\n",
            " Test_20000_Apr-19-2020_22-50.csv\n",
            " Test_2000_Apr-19-2020_22-40.csv\n",
            " test_baseline.csv\n",
            " Train_100000_Apr-19-2020_22-33.csv\n",
            " Train_20000_Apr-19-2020_22-50.csv\n",
            " Train_2000_Apr-19-2020_22-40.csv\n",
            " train_baseline.csv\n"
          ],
          "name": "stdout"
        }
      ]
    },
    {
      "cell_type": "code",
      "metadata": {
        "id": "K9Kz7amjoljp",
        "colab_type": "code",
        "outputId": "1d8ec799-2d8d-4640-d55e-7575950bfe58",
        "colab": {
          "base_uri": "https://localhost:8080/",
          "height": 554
        }
      },
      "source": [
        "# load your choice of dataset here . Specify paths as folder_datestring/file_datestring.zip\n",
        "Train_ZipCSVFileName = 'amz_all_electronics/Data_Balanced_2000_Apr-03-2020_06-46/Train_2000_Apr-03-2020_06-46.zip'\n",
        "Test_ZipCSVFileName = 'amz_all_electronics/Data_Balanced_2000_Apr-03-2020_06-46/Test_2000_Apr-03-2020_06-46.zip'\n",
        "\n",
        "import pandas as pd\n",
        "import numpy as np\n",
        "\n",
        "\n",
        "df_train = pd.read_csv(Train_ZipCSVFileName)\n",
        "df_train.info()\n",
        "\n",
        "df_test = pd.read_csv(Test_ZipCSVFileName)\n",
        "df_test.info()\n"
      ],
      "execution_count": 11,
      "outputs": [
        {
          "output_type": "stream",
          "text": [
            "<class 'pandas.core.frame.DataFrame'>\n",
            "RangeIndex: 3759 entries, 0 to 3758\n",
            "Data columns (total 9 columns):\n",
            " #   Column          Non-Null Count  Dtype  \n",
            "---  ------          --------------  -----  \n",
            " 0   overall         3759 non-null   float64\n",
            " 1   reviewTime      3759 non-null   object \n",
            " 2   reviewerID      3759 non-null   object \n",
            " 3   asin            3759 non-null   object \n",
            " 4   reviewText      3759 non-null   object \n",
            " 5   summary         3759 non-null   object \n",
            " 6   unixReviewTime  3759 non-null   int64  \n",
            " 7   reviewText_len  3759 non-null   int64  \n",
            " 8   summary_len     3759 non-null   int64  \n",
            "dtypes: float64(1), int64(3), object(5)\n",
            "memory usage: 264.4+ KB\n",
            "<class 'pandas.core.frame.DataFrame'>\n",
            "RangeIndex: 429 entries, 0 to 428\n",
            "Data columns (total 9 columns):\n",
            " #   Column          Non-Null Count  Dtype  \n",
            "---  ------          --------------  -----  \n",
            " 0   overall         429 non-null    float64\n",
            " 1   reviewTime      429 non-null    object \n",
            " 2   reviewerID      429 non-null    object \n",
            " 3   asin            429 non-null    object \n",
            " 4   reviewText      429 non-null    object \n",
            " 5   summary         429 non-null    object \n",
            " 6   unixReviewTime  429 non-null    int64  \n",
            " 7   reviewText_len  429 non-null    int64  \n",
            " 8   summary_len     429 non-null    int64  \n",
            "dtypes: float64(1), int64(3), object(5)\n",
            "memory usage: 30.3+ KB\n"
          ],
          "name": "stdout"
        }
      ]
    },
    {
      "cell_type": "code",
      "metadata": {
        "id": "mEPUIWc2pYRT",
        "colab_type": "code",
        "outputId": "6fd7decc-c48c-4fc6-9841-ac21c625e579",
        "colab": {
          "base_uri": "https://localhost:8080/",
          "height": 168
        }
      },
      "source": [
        "\n",
        "# Get names of indexes for which column Age has value 30\n",
        "index_neutrals_train = df_train[ df_train['overall'] == 3 ].index\n",
        "index_neutrals_test = df_test[ df_test['overall'] == 3 ].index\n",
        " \n",
        "# Delete these row indexes from dataFrame\n",
        "df_train.drop(index_neutrals_train , inplace=True)\n",
        "df_test.drop(index_neutrals_test , inplace=True)\n",
        "\n",
        "df_train.loc[(df_train.overall == 1),'overall']= 1\n",
        "df_train.loc[(df_train.overall == 2),'overall']= 1\n",
        "df_train.loc[(df_train.overall == 4),'overall']= 5\n",
        "df_train.loc[(df_train.overall == 5),'overall']= 5\n",
        "\n",
        "df_test.loc[(df_test.overall == 1),'overall']= 1\n",
        "df_test.loc[(df_test.overall == 2),'overall']= 1\n",
        "df_test.loc[(df_test.overall == 4),'overall']= 5\n",
        "df_test.loc[(df_test.overall == 5),'overall']= 5\n",
        "\n",
        "df_train['reviewText_len'].describe()\n",
        "# Since the mean average review size is around 145 chars and max is 400, I can safely set the max [summary + review] Text Limit to 400 \n",
        "\t"
      ],
      "execution_count": 12,
      "outputs": [
        {
          "output_type": "execute_result",
          "data": {
            "text/plain": [
              "count    3720.000000\n",
              "mean      125.913441\n",
              "std       123.511504\n",
              "min         2.000000\n",
              "25%        34.000000\n",
              "50%        88.000000\n",
              "75%       170.000000\n",
              "max       599.000000\n",
              "Name: reviewText_len, dtype: float64"
            ]
          },
          "metadata": {
            "tags": []
          },
          "execution_count": 12
        }
      ]
    },
    {
      "cell_type": "code",
      "metadata": {
        "id": "M7AXCZXYduHp",
        "colab_type": "code",
        "outputId": "dfb3c75d-07d8-4298-d9ef-2003eb4189e4",
        "colab": {
          "base_uri": "https://localhost:8080/",
          "height": 168
        }
      },
      "source": [
        "df_train['overall'].describe()\n",
        "df_test['summary_len'].describe()"
      ],
      "execution_count": 13,
      "outputs": [
        {
          "output_type": "execute_result",
          "data": {
            "text/plain": [
              "count    424.000000\n",
              "mean      14.981132\n",
              "std        7.978080\n",
              "min        2.000000\n",
              "25%       10.000000\n",
              "50%       10.000000\n",
              "75%       19.000000\n",
              "max       38.000000\n",
              "Name: summary_len, dtype: float64"
            ]
          },
          "metadata": {
            "tags": []
          },
          "execution_count": 13
        }
      ]
    },
    {
      "cell_type": "code",
      "metadata": {
        "id": "13adMhDFoQAP",
        "colab_type": "code",
        "colab": {}
      },
      "source": [
        "# The maximum number of words to be used. (most frequent)\n",
        "MAX_VOCAB_SIZE = 50000\n",
        "# Max number of words in each complaint.\n",
        "MAX_SEQUENCE_LENGTH = 250\n",
        "# This is fixed.\n",
        "EMBEDDING_DIM = 200\n",
        "\n",
        "import uuid\n",
        "folderGUID = uuid.uuid4().hex\n",
        "\n",
        "# stupid shell way of converting variable to string \n",
        "!mkdir \"ModelResults/v3_$folderGUID\""
      ],
      "execution_count": 0,
      "outputs": []
    },
    {
      "cell_type": "code",
      "metadata": {
        "id": "pGBHgCmFr496",
        "colab_type": "code",
        "colab": {}
      },
      "source": [
        "from tensorflow.keras.preprocessing.text import Tokenizer\n",
        "from tensorflow.keras.preprocessing.sequence import pad_sequences"
      ],
      "execution_count": 0,
      "outputs": []
    },
    {
      "cell_type": "code",
      "metadata": {
        "id": "SDpJYm15Psh8",
        "colab_type": "code",
        "outputId": "cb9efc2a-0b68-4c29-b263-918619013a63",
        "colab": {
          "base_uri": "https://localhost:8080/",
          "height": 34
        }
      },
      "source": [
        "tokenizer = Tokenizer(num_words= MAX_VOCAB_SIZE, filters='#$%&()*+<=>@[\\\\]^_`{|}~\\t\\n', lower=True)\n",
        "tokenizer.fit_on_texts(df_train['summary'] + ' DELIM '+df_train['reviewText'])\n",
        "word_index = tokenizer.word_index\n",
        "print('Found %s unique tokens.' % len(word_index))"
      ],
      "execution_count": 16,
      "outputs": [
        {
          "output_type": "stream",
          "text": [
            "Found 2480 unique tokens.\n"
          ],
          "name": "stdout"
        }
      ]
    },
    {
      "cell_type": "code",
      "metadata": {
        "id": "wN0qwi2Hn57s",
        "colab_type": "code",
        "outputId": "a7326ee7-e437-49df-ad58-72c4daf5bd90",
        "colab": {
          "base_uri": "https://localhost:8080/",
          "height": 134
        }
      },
      "source": [
        "\n",
        "print(df_train['summary'].values + ' DELIM '+ df_train['reviewText'].values)"
      ],
      "execution_count": 17,
      "outputs": [
        {
          "output_type": "stream",
          "text": [
            "['smell aw DELIM i bought this to smell nice after i shave when i put it on i smell aw i am 19 and i smell like a grandmoth with too much perfum'\n",
            " 'one star DELIM made dandruff wor and irrit rest of skin'\n",
            " 'disappoint DELIM made my hair brittl and dull look didnt do anyth for the itch or dandruff'\n",
            " ...\n",
            " 'im veri happi with DELIM the eye gel is easi to appli and i use it morn and night it is cool to the touch and the dispen is ingeni'\n",
            " 'doe it thing DELIM ok this eye gel is good stuff'\n",
            " 'happi DELIM this is the first eye gel/cream that actual doe what it said it was gonna do']\n"
          ],
          "name": "stdout"
        }
      ]
    },
    {
      "cell_type": "code",
      "metadata": {
        "id": "0pjaMEuHVXnR",
        "colab_type": "code",
        "outputId": "3e2d53a4-e012-4f01-9630-3d091db7f4de",
        "colab": {
          "base_uri": "https://localhost:8080/",
          "height": 34
        }
      },
      "source": [
        "X = tokenizer.texts_to_sequences(df_train['summary'].values + ' DELIM '+ df_train['reviewText'].values)\n",
        "X = pad_sequences(X, maxlen=MAX_SEQUENCE_LENGTH)\n",
        "print('Shape of data tensor:', X.shape)\n"
      ],
      "execution_count": 18,
      "outputs": [
        {
          "output_type": "stream",
          "text": [
            "Shape of data tensor: (3720, 250)\n"
          ],
          "name": "stdout"
        }
      ]
    },
    {
      "cell_type": "code",
      "metadata": {
        "id": "Jng1UISwsXxd",
        "colab_type": "code",
        "outputId": "a7388f52-f075-4487-eae9-019b3f5ee087",
        "colab": {
          "base_uri": "https://localhost:8080/",
          "height": 34
        }
      },
      "source": [
        "Y = pd.get_dummies(df_train['overall']).values\n",
        "print('Shape of label tensor:', Y.shape)"
      ],
      "execution_count": 19,
      "outputs": [
        {
          "output_type": "stream",
          "text": [
            "Shape of label tensor: (3720, 2)\n"
          ],
          "name": "stdout"
        }
      ]
    },
    {
      "cell_type": "markdown",
      "metadata": {
        "id": "X5GAk5mh-Wm-",
        "colab_type": "text"
      },
      "source": [
        "Function for metrics measurement"
      ]
    },
    {
      "cell_type": "code",
      "metadata": {
        "id": "eHMoH5j_-H1b",
        "colab_type": "code",
        "colab": {
          "base_uri": "https://localhost:8080/",
          "height": 34
        },
        "outputId": "fd3eeb10-8f18-487e-c744-8961c347809c"
      },
      "source": [
        "from keras import backend as K\n",
        "\n",
        "def recall_m(y_true, y_pred):\n",
        "    true_positives = K.sum(K.round(K.clip(y_true * y_pred, 0, 1)))\n",
        "    possible_positives = K.sum(K.round(K.clip(y_true, 0, 1)))\n",
        "    recall = true_positives / (possible_positives + K.epsilon())\n",
        "    return recall\n",
        "\n",
        "def precision_m(y_true, y_pred):\n",
        "    true_positives = K.sum(K.round(K.clip(y_true * y_pred, 0, 1)))\n",
        "    predicted_positives = K.sum(K.round(K.clip(y_pred, 0, 1)))\n",
        "    precision = true_positives / (predicted_positives + K.epsilon())\n",
        "    return precision\n",
        "\n",
        "def f1_m(y_true, y_pred):\n",
        "    precision = precision_m(y_true, y_pred)\n",
        "    recall = recall_m(y_true, y_pred)\n",
        "    return 2*((precision*recall)/(precision+recall+K.epsilon()))"
      ],
      "execution_count": 20,
      "outputs": [
        {
          "output_type": "stream",
          "text": [
            "Using TensorFlow backend.\n"
          ],
          "name": "stderr"
        }
      ]
    },
    {
      "cell_type": "code",
      "metadata": {
        "id": "kzu3hiE2strx",
        "colab_type": "code",
        "outputId": "56fd847d-df35-4933-b67b-bc8f5eb978df",
        "colab": {
          "base_uri": "https://localhost:8080/",
          "height": 118
        }
      },
      "source": [
        "from tensorflow.keras.models import Sequential\n",
        "from tensorflow.keras.layers import Dense, Embedding, LSTM, SpatialDropout1D\n",
        "from tensorflow.keras.callbacks import EarlyStopping\n",
        "from tensorflow.keras.layers import Dropout\n",
        "\n",
        "model = Sequential()\n",
        "model.add(Embedding(MAX_VOCAB_SIZE, EMBEDDING_DIM, input_length=X.shape[1]))\n",
        "model.add(LSTM(200, dropout = 0.2))\n",
        "model.add(Dense(2, activation='softmax'))\n",
        "model.compile(optimizer='adam',loss='binary_crossentropy',metrics=['accuracy',f1_m,precision_m, recall_m])\n",
        "\n",
        "# run for small number of epochs then save \n",
        "epochs = 3\n",
        "\n",
        "history = model.fit(X, Y, epochs=epochs)"
      ],
      "execution_count": 21,
      "outputs": [
        {
          "output_type": "stream",
          "text": [
            "Epoch 1/3\n",
            "117/117 [==============================] - 92s 786ms/step - loss: 0.1303 - accuracy: 0.9691 - f1_m: 0.9693 - precision_m: 0.9693 - recall_m: 0.9693\n",
            "Epoch 2/3\n",
            "117/117 [==============================] - 92s 787ms/step - loss: 0.0185 - accuracy: 0.9946 - f1_m: 0.9947 - precision_m: 0.9947 - recall_m: 0.9947\n",
            "Epoch 3/3\n",
            "117/117 [==============================] - 92s 784ms/step - loss: 0.0027 - accuracy: 0.9997 - f1_m: 0.9997 - precision_m: 0.9997 - recall_m: 0.9997\n"
          ],
          "name": "stdout"
        }
      ]
    },
    {
      "cell_type": "code",
      "metadata": {
        "id": "5adje0Av6KyR",
        "colab_type": "code",
        "outputId": "32445399-5f2f-4139-b656-853836c54f96",
        "colab": {
          "base_uri": "https://localhost:8080/",
          "height": 34
        }
      },
      "source": [
        "# Save the model to Local Disk \n",
        "# https://stackoverflow.com/questions/45424683/how-to-continue-training-for-a-saved-and-then-loaded-keras-model\n",
        "\n",
        "filePath = \"ModelResults/v3_\"+str(folderGUID)+\"/model.h5\"\n",
        "model.save(filePath)\n",
        "print(\"Saved model to disk : \"+ str(folderGUID))\n",
        "\n"
      ],
      "execution_count": 22,
      "outputs": [
        {
          "output_type": "stream",
          "text": [
            "Saved model to disk : 304198720d8b4005829fd39ef76638b0\n"
          ],
          "name": "stdout"
        }
      ]
    },
    {
      "cell_type": "code",
      "metadata": {
        "id": "xaHU2gjz1TZc",
        "colab_type": "code",
        "colab": {}
      },
      "source": [
        "# Run additional training if necessary & remember to resave it \n",
        "#from tensorflow.keras.models import load_model\n",
        "#filePath = 'ModelResults/5eab2088768f4439824f997f86e64122/model.h5'\n",
        "# Load the model\n",
        "#model = load_model(filePath)\n",
        "\n",
        "# Train more on the loaded model\n",
        "#history = model.fit(X, Y, epochs=epochs)\n",
        "\n"
      ],
      "execution_count": 0,
      "outputs": []
    },
    {
      "cell_type": "code",
      "metadata": {
        "id": "3x0o4hHdHzxe",
        "colab_type": "code",
        "outputId": "0952ae63-dd84-441f-d1eb-1428c1c8552e",
        "colab": {
          "base_uri": "https://localhost:8080/",
          "height": 151
        }
      },
      "source": [
        "\n",
        "\n",
        "X_test = tokenizer.texts_to_sequences((df_test['summary'].values + ' DELIM '+ df_test['reviewText'].values))\n",
        "X_test = pad_sequences(X_test, maxlen=MAX_SEQUENCE_LENGTH)\n",
        "print('Shape of data tensor:', X_test.shape)\n",
        "\n",
        "Y_Test = pd.get_dummies(df_test['overall']).values\n",
        "print('Shape of label tensor:', Y_Test.shape)\n",
        "\n",
        "loss, accuracy, f1_score, precision, recall = model.evaluate(X_test, Y_Test)\n",
        "\n",
        "print(\"loss\",loss)\n",
        "print(\"accuracy\",accuracy)\n",
        "print(\"f1 score\",f1_score)\n",
        "print(\"precision\",precision)\n",
        "print(\"recall\",recall)"
      ],
      "execution_count": 29,
      "outputs": [
        {
          "output_type": "stream",
          "text": [
            "Shape of data tensor: (424, 250)\n",
            "Shape of label tensor: (424, 2)\n",
            "14/14 [==============================] - 3s 186ms/step - loss: 0.0397 - accuracy: 0.9953 - f1_m: 0.9955 - precision_m: 0.9955 - recall_m: 0.9955\n",
            "loss 0.03966318443417549\n",
            "accuracy 0.9952830076217651\n",
            "f1 score 0.9955357313156128\n",
            "precision 0.9955357313156128\n",
            "recall 0.9955357313156128\n"
          ],
          "name": "stdout"
        }
      ]
    },
    {
      "cell_type": "code",
      "metadata": {
        "id": "Rkg_d9COvrvJ",
        "colab_type": "code",
        "outputId": "dbf75dce-4a7e-4ab8-a2c4-0c4af47ac81f",
        "colab": {
          "base_uri": "https://localhost:8080/",
          "height": 545
        }
      },
      "source": [
        "import matplotlib.pyplot as plt\n",
        "\n",
        "\n",
        "plt.title('Loss')\n",
        "plt.plot(history.history['loss'], label='train')\n",
        "plt.legend()\n",
        "plt.show();\n",
        "\n",
        "plt.title('Accuracy')\n",
        "plt.plot(history.history['accuracy'], label='test')\n",
        "plt.legend()\n",
        "plt.show();\n"
      ],
      "execution_count": 24,
      "outputs": [
        {
          "output_type": "display_data",
          "data": {
            "image/png": "[encoded data removed]",
            "text/plain": [
              "<Figure size 432x288 with 1 Axes>"
            ]
          },
          "metadata": {
            "tags": [],
            "needs_background": "light"
          }
        },
        {
          "output_type": "display_data",
          "data": {
            "image/png": "[encoded data removed]",
            "text/plain": [
              "<Figure size 432x288 with 1 Axes>"
            ]
          },
          "metadata": {
            "tags": [],
            "needs_background": "light"
          }
        }
      ]
    },
    {
      "cell_type": "code",
      "metadata": {
        "id": "j1kpF-BFG47h",
        "colab_type": "code",
        "outputId": "7545225e-b233-4402-9cf9-ef9063018899",
        "colab": {
          "base_uri": "https://localhost:8080/",
          "height": 50
        }
      },
      "source": [
        "# Test for single review \n",
        "new_review = ['I am a victim of identity theft and someone stole my identity and personal information to open up a Visa credit card account with Bank of America. The following Bank of America Visa credit card account do not belong to me : XXXX.']\n",
        "seq = tokenizer.texts_to_sequences(new_review)\n",
        "padded = pad_sequences(seq, maxlen=MAX_SEQUENCE_LENGTH)\n",
        "pred = model.predict(padded)\n",
        "\n",
        "\n",
        "print(pred)\n",
        "print(np.argmax(pred))"
      ],
      "execution_count": 25,
      "outputs": [
        {
          "output_type": "stream",
          "text": [
            "[[0.28729853 0.71270144]]\n",
            "1\n"
          ],
          "name": "stdout"
        }
      ]
    },
    {
      "cell_type": "code",
      "metadata": {
        "id": "AhomHH8EppAd",
        "colab_type": "code",
        "outputId": "fe42d6a6-b5e5-4b34-9d01-d75575b4c8ae",
        "colab": {
          "base_uri": "https://localhost:8080/",
          "height": 1000
        }
      },
      "source": [
        "# VISUALIZE THE EMBEDDINGS\n",
        "from sklearn.manifold import TSNE\n",
        "import plotly.offline as plotly\n",
        "import plotly.graph_objs as pltgo\n",
        "#plotly.init_notebook_mode(connected = True)\n",
        "\n",
        "words = [] \n",
        "for word, i in tokenizer.word_index.items():\n",
        "  words.append(word)\n",
        "\n",
        "def plot_words(data, start, stop, step):\n",
        "  trace = pltgo.Scatter(\n",
        "      x = data[start:stop:step,0],\n",
        "      y = data[start:stop:step,1],\n",
        "      mode = 'markers',\n",
        "      text = words[start:stop:step]\n",
        "  )\n",
        "  layout = dict(title = 't-SNE 1 vs t-SNE 2',\n",
        "                yaxis = dict(title = 't-SNE 2'),\n",
        "                xaxis = dict(title = 't-SNE 1'),\n",
        "                hovermode = 'closest')\n",
        "  fig = dict(data=[trace], layout = layout)\n",
        "  pyotly.iplot(fig)  \n",
        "\n",
        "model_embeddings = model.layers[0].get_weights()[0]\n",
        "lstm_embeds = TSNE(n_components =2, verbose=10).fit_transform(model_embeddings)\n"
      ],
      "execution_count": 26,
      "outputs": [
        {
          "output_type": "stream",
          "text": [
            "[t-SNE] Computing 91 nearest neighbors...\n",
            "[t-SNE] Indexed 50000 samples in 1.750s...\n",
            "[t-SNE] Computed neighbors for 50000 samples in 1396.322s...\n",
            "[t-SNE] Computed conditional probabilities for sample 1000 / 50000\n",
            "[t-SNE] Computed conditional probabilities for sample 2000 / 50000\n",
            "[t-SNE] Computed conditional probabilities for sample 3000 / 50000\n",
            "[t-SNE] Computed conditional probabilities for sample 4000 / 50000\n",
            "[t-SNE] Computed conditional probabilities for sample 5000 / 50000\n",
            "[t-SNE] Computed conditional probabilities for sample 6000 / 50000\n",
            "[t-SNE] Computed conditional probabilities for sample 7000 / 50000\n",
            "[t-SNE] Computed conditional probabilities for sample 8000 / 50000\n",
            "[t-SNE] Computed conditional probabilities for sample 9000 / 50000\n",
            "[t-SNE] Computed conditional probabilities for sample 10000 / 50000\n",
            "[t-SNE] Computed conditional probabilities for sample 11000 / 50000\n",
            "[t-SNE] Computed conditional probabilities for sample 12000 / 50000\n",
            "[t-SNE] Computed conditional probabilities for sample 13000 / 50000\n",
            "[t-SNE] Computed conditional probabilities for sample 14000 / 50000\n",
            "[t-SNE] Computed conditional probabilities for sample 15000 / 50000\n",
            "[t-SNE] Computed conditional probabilities for sample 16000 / 50000\n",
            "[t-SNE] Computed conditional probabilities for sample 17000 / 50000\n",
            "[t-SNE] Computed conditional probabilities for sample 18000 / 50000\n",
            "[t-SNE] Computed conditional probabilities for sample 19000 / 50000\n",
            "[t-SNE] Computed conditional probabilities for sample 20000 / 50000\n",
            "[t-SNE] Computed conditional probabilities for sample 21000 / 50000\n",
            "[t-SNE] Computed conditional probabilities for sample 22000 / 50000\n",
            "[t-SNE] Computed conditional probabilities for sample 23000 / 50000\n",
            "[t-SNE] Computed conditional probabilities for sample 24000 / 50000\n",
            "[t-SNE] Computed conditional probabilities for sample 25000 / 50000\n",
            "[t-SNE] Computed conditional probabilities for sample 26000 / 50000\n",
            "[t-SNE] Computed conditional probabilities for sample 27000 / 50000\n",
            "[t-SNE] Computed conditional probabilities for sample 28000 / 50000\n",
            "[t-SNE] Computed conditional probabilities for sample 29000 / 50000\n",
            "[t-SNE] Computed conditional probabilities for sample 30000 / 50000\n",
            "[t-SNE] Computed conditional probabilities for sample 31000 / 50000\n",
            "[t-SNE] Computed conditional probabilities for sample 32000 / 50000\n",
            "[t-SNE] Computed conditional probabilities for sample 33000 / 50000\n",
            "[t-SNE] Computed conditional probabilities for sample 34000 / 50000\n",
            "[t-SNE] Computed conditional probabilities for sample 35000 / 50000\n",
            "[t-SNE] Computed conditional probabilities for sample 36000 / 50000\n",
            "[t-SNE] Computed conditional probabilities for sample 37000 / 50000\n",
            "[t-SNE] Computed conditional probabilities for sample 38000 / 50000\n",
            "[t-SNE] Computed conditional probabilities for sample 39000 / 50000\n",
            "[t-SNE] Computed conditional probabilities for sample 40000 / 50000\n",
            "[t-SNE] Computed conditional probabilities for sample 41000 / 50000\n",
            "[t-SNE] Computed conditional probabilities for sample 42000 / 50000\n",
            "[t-SNE] Computed conditional probabilities for sample 43000 / 50000\n",
            "[t-SNE] Computed conditional probabilities for sample 44000 / 50000\n",
            "[t-SNE] Computed conditional probabilities for sample 45000 / 50000\n",
            "[t-SNE] Computed conditional probabilities for sample 46000 / 50000\n",
            "[t-SNE] Computed conditional probabilities for sample 47000 / 50000\n",
            "[t-SNE] Computed conditional probabilities for sample 48000 / 50000\n",
            "[t-SNE] Computed conditional probabilities for sample 49000 / 50000\n",
            "[t-SNE] Computed conditional probabilities for sample 50000 / 50000\n",
            "[t-SNE] Mean sigma: 0.077384\n",
            "[t-SNE] Computed conditional probabilities in 3.436s\n",
            "[t-SNE] Iteration 50: error = 114.3097839, gradient norm = 0.0000384 (50 iterations in 42.559s)\n",
            "[t-SNE] Iteration 100: error = 114.2921753, gradient norm = 0.0002846 (50 iterations in 46.474s)\n",
            "[t-SNE] Iteration 150: error = 114.1284180, gradient norm = 0.0000051 (50 iterations in 38.087s)\n",
            "[t-SNE] Iteration 200: error = 114.1281586, gradient norm = 0.0000031 (50 iterations in 37.567s)\n",
            "[t-SNE] Iteration 250: error = 114.1279907, gradient norm = 0.0000025 (50 iterations in 37.684s)\n",
            "[t-SNE] KL divergence after 250 iterations with early exaggeration: 114.127991\n",
            "[t-SNE] Iteration 300: error = 6.9078531, gradient norm = 0.0010291 (50 iterations in 37.472s)\n",
            "[t-SNE] Iteration 350: error = 6.7042599, gradient norm = 0.0004611 (50 iterations in 35.600s)\n",
            "[t-SNE] Iteration 400: error = 6.6498566, gradient norm = 0.0002136 (50 iterations in 31.835s)\n",
            "[t-SNE] Iteration 450: error = 6.6206689, gradient norm = 0.0001454 (50 iterations in 31.297s)\n",
            "[t-SNE] Iteration 500: error = 6.5992975, gradient norm = 0.0001109 (50 iterations in 30.667s)\n",
            "[t-SNE] Iteration 550: error = 6.5808001, gradient norm = 0.0000931 (50 iterations in 30.676s)\n",
            "[t-SNE] Iteration 600: error = 6.5637074, gradient norm = 0.0000827 (50 iterations in 30.456s)\n",
            "[t-SNE] Iteration 650: error = 6.5473413, gradient norm = 0.0000740 (50 iterations in 30.150s)\n",
            "[t-SNE] Iteration 700: error = 6.5312266, gradient norm = 0.0000679 (50 iterations in 29.951s)\n",
            "[t-SNE] Iteration 750: error = 6.5151386, gradient norm = 0.0000641 (50 iterations in 30.004s)\n",
            "[t-SNE] Iteration 800: error = 6.4992852, gradient norm = 0.0000601 (50 iterations in 29.592s)\n",
            "[t-SNE] Iteration 850: error = 6.4835434, gradient norm = 0.0000565 (50 iterations in 29.257s)\n",
            "[t-SNE] Iteration 900: error = 6.4679866, gradient norm = 0.0000531 (50 iterations in 29.176s)\n",
            "[t-SNE] Iteration 950: error = 6.4528351, gradient norm = 0.0000507 (50 iterations in 29.143s)\n",
            "[t-SNE] Iteration 1000: error = 6.4380693, gradient norm = 0.0000475 (50 iterations in 28.947s)\n",
            "[t-SNE] KL divergence after 1000 iterations: 6.438069\n"
          ],
          "name": "stdout"
        }
      ]
    },
    {
      "cell_type": "code",
      "metadata": {
        "id": "aw4ivdWprrcN",
        "colab_type": "code",
        "outputId": "353c75e6-3c59-46f5-94f3-8d8bdc66c7e7",
        "colab": {
          "base_uri": "https://localhost:8080/",
          "height": 279
        }
      },
      "source": [
        "plot_words(lstm_embeds, 0, MAX_VOCAB_SIZE, 1)"
      ],
      "execution_count": 27,
      "outputs": [
        {
          "output_type": "error",
          "ename": "NameError",
          "evalue": "ignored",
          "traceback": [
            "\u001b[0;31m---------------------------------------------------------------------------\u001b[0m",
            "\u001b[0;31mNameError\u001b[0m                                 Traceback (most recent call last)",
            "\u001b[0;32m<ipython-input-27-f603653ec912>\u001b[0m in \u001b[0;36m<module>\u001b[0;34m()\u001b[0m\n\u001b[0;32m----> 1\u001b[0;31m \u001b[0mplot_words\u001b[0m\u001b[0;34m(\u001b[0m\u001b[0mlstm_embeds\u001b[0m\u001b[0;34m,\u001b[0m \u001b[0;36m0\u001b[0m\u001b[0;34m,\u001b[0m \u001b[0mMAX_VOCAB_SIZE\u001b[0m\u001b[0;34m,\u001b[0m \u001b[0;36m1\u001b[0m\u001b[0;34m)\u001b[0m\u001b[0;34m\u001b[0m\u001b[0;34m\u001b[0m\u001b[0m\n\u001b[0m",
            "\u001b[0;32m<ipython-input-26-e497a5f468b8>\u001b[0m in \u001b[0;36mplot_words\u001b[0;34m(data, start, stop, step)\u001b[0m\n\u001b[1;32m     20\u001b[0m                 hovermode = 'closest')\n\u001b[1;32m     21\u001b[0m   \u001b[0mfig\u001b[0m \u001b[0;34m=\u001b[0m \u001b[0mdict\u001b[0m\u001b[0;34m(\u001b[0m\u001b[0mdata\u001b[0m\u001b[0;34m=\u001b[0m\u001b[0;34m[\u001b[0m\u001b[0mtrace\u001b[0m\u001b[0;34m]\u001b[0m\u001b[0;34m,\u001b[0m \u001b[0mlayout\u001b[0m \u001b[0;34m=\u001b[0m \u001b[0mlayout\u001b[0m\u001b[0;34m)\u001b[0m\u001b[0;34m\u001b[0m\u001b[0;34m\u001b[0m\u001b[0m\n\u001b[0;32m---> 22\u001b[0;31m   \u001b[0mpyotly\u001b[0m\u001b[0;34m.\u001b[0m\u001b[0miplot\u001b[0m\u001b[0;34m(\u001b[0m\u001b[0mfig\u001b[0m\u001b[0;34m)\u001b[0m\u001b[0;34m\u001b[0m\u001b[0;34m\u001b[0m\u001b[0m\n\u001b[0m\u001b[1;32m     23\u001b[0m \u001b[0;34m\u001b[0m\u001b[0m\n\u001b[1;32m     24\u001b[0m \u001b[0mmodel_embeddings\u001b[0m \u001b[0;34m=\u001b[0m \u001b[0mmodel\u001b[0m\u001b[0;34m.\u001b[0m\u001b[0mlayers\u001b[0m\u001b[0;34m[\u001b[0m\u001b[0;36m0\u001b[0m\u001b[0;34m]\u001b[0m\u001b[0;34m.\u001b[0m\u001b[0mget_weights\u001b[0m\u001b[0;34m(\u001b[0m\u001b[0;34m)\u001b[0m\u001b[0;34m[\u001b[0m\u001b[0;36m0\u001b[0m\u001b[0;34m]\u001b[0m\u001b[0;34m\u001b[0m\u001b[0;34m\u001b[0m\u001b[0m\n",
            "\u001b[0;31mNameError\u001b[0m: name 'pyotly' is not defined"
          ]
        }
      ]
    }
  ]
}