{
  "nbformat": 4,
  "nbformat_minor": 0,
  "metadata": {
    "colab": {
      "name": "biLSTM.ipynb",
      "provenance": [],
      "private_outputs": true,
      "collapsed_sections": [],
      "authorship_tag": "ABX9TyOGA57zyzgUkbe2NVnhVDkZ",
      "include_colab_link": true
    },
    "kernelspec": {
      "name": "python3",
      "display_name": "Python 3"
    }
  },
  "cells": [
    {
      "cell_type": "markdown",
      "metadata": {
        "id": "view-in-github",
        "colab_type": "text"
      },
      "source": [
        "<a href=\"https://colab.research.google.com/github/benza613/Sentiment-Analysis-using-Deep-Learning/blob/master/notebooks/biLSTM.ipynb\" target=\"_parent\"><img src=\"https://colab.research.google.com/assets/colab-badge.svg\" alt=\"Open In Colab\"/></a>"
      ]
    },
    {
      "cell_type": "code",
      "metadata": {
        "id": "ciJxdHqb_RL4",
        "colab_type": "code",
        "colab": {}
      },
      "source": [
        "from google.colab import drive\n",
        "drive.mount('/content/gdrive')"
      ],
      "execution_count": 0,
      "outputs": []
    },
    {
      "cell_type": "code",
      "metadata": {
        "id": "_QSZkFOkPb5m",
        "colab_type": "code",
        "colab": {}
      },
      "source": [
        "%cd gdrive/My\\ Drive/SNLP"
      ],
      "execution_count": 0,
      "outputs": []
    },
    {
      "cell_type": "code",
      "metadata": {
        "id": "vg_Q8_6Y_hYk",
        "colab_type": "code",
        "colab": {}
      },
      "source": [
        "%cd Sentiment-Analysis-using-Deep-Learning/"
      ],
      "execution_count": 0,
      "outputs": []
    },
    {
      "cell_type": "code",
      "metadata": {
        "id": "UNFlsOhiATny",
        "colab_type": "code",
        "colab": {}
      },
      "source": [
        "# load your choice of dataset here . Specify paths as folder_datestring/file_datestring.zip\n",
        "Train_ZipCSVFileName = 'data/Train_100000_Apr-04-2020_06-54.csv'\n",
        "Test_ZipCSVFileName = 'data/Test_100000_Apr-04-2020_06-54.csv'\n",
        "\n",
        "import pandas as pd\n",
        "import numpy as np\n",
        "\n",
        "\n",
        "df_train = pd.read_csv(Train_ZipCSVFileName)\n",
        "df_train.info()\n",
        "\n",
        "df_test = pd.read_csv(Test_ZipCSVFileName)\n",
        "df_test.info()"
      ],
      "execution_count": 0,
      "outputs": []
    },
    {
      "cell_type": "code",
      "metadata": {
        "id": "G6X6JnOpAtFz",
        "colab_type": "code",
        "colab": {}
      },
      "source": [
        "# Get names of indexes for which column overall has value 3\n",
        "index_neutrals_train = df_train[ df_train['overall'] == 3 ].index\n",
        "index_neutrals_test = df_test[ df_test['overall'] == 3 ].index\n",
        " \n",
        "# Delete these row indexes from dataFrame\n",
        "df_train.drop(index_neutrals_train , inplace=True)\n",
        "df_test.drop(index_neutrals_test , inplace=True)\n",
        "\n",
        "df_train.loc[(df_train.overall == 1),'overall']= 1\n",
        "df_train.loc[(df_train.overall == 2),'overall']= 1\n",
        "df_train.loc[(df_train.overall == 4),'overall']= 5\n",
        "df_train.loc[(df_train.overall == 5),'overall']= 5\n",
        "\n",
        "df_test.loc[(df_test.overall == 1),'overall']= 1\n",
        "df_test.loc[(df_test.overall == 2),'overall']= 1\n",
        "df_test.loc[(df_test.overall == 4),'overall']= 5\n",
        "df_test.loc[(df_test.overall == 5),'overall']= 5\n",
        "\n",
        "df_train['reviewText_len'].describe()\n",
        "# Since the mean average review size is around 145 chars and max is 400, I can safely set the max [summary + review] Text Limit to 400 "
      ],
      "execution_count": 0,
      "outputs": []
    },
    {
      "cell_type": "code",
      "metadata": {
        "id": "HdFBDHkWA6y0",
        "colab_type": "code",
        "colab": {}
      },
      "source": [
        "df_train['overall'].describe()\n",
        "df_test['overall'].describe()"
      ],
      "execution_count": 0,
      "outputs": []
    },
    {
      "cell_type": "markdown",
      "metadata": {
        "id": "QxTmqzQssI5Y",
        "colab_type": "text"
      },
      "source": [
        ""
      ]
    },
    {
      "cell_type": "code",
      "metadata": {
        "id": "6Cnj7F8PA_dG",
        "colab_type": "code",
        "colab": {}
      },
      "source": [
        "# The maximum number of words to be used. (most frequent)\n",
        "MAX_VOCAB_SIZE = 50000\n",
        "# Max number of words in each complaint.\n",
        "MAX_SEQUENCE_LENGTH = 250\n",
        "# This is fixed.\n",
        "EMBEDDING_DIM = 200\n",
        "\n",
        "import uuid\n",
        "folderGUID = uuid.uuid4().hex\n",
        "\n",
        "# stupid shell way of converting variable to string \n",
        "!mkdir \"ModelResults/$folderGUID\""
      ],
      "execution_count": 0,
      "outputs": []
    },
    {
      "cell_type": "code",
      "metadata": {
        "id": "lBSoDjOJBDjQ",
        "colab_type": "code",
        "colab": {}
      },
      "source": [
        "from tensorflow.keras.preprocessing.text import Tokenizer\n",
        "from tensorflow.keras.preprocessing.sequence import pad_sequences"
      ],
      "execution_count": 0,
      "outputs": []
    },
    {
      "cell_type": "code",
      "metadata": {
        "id": "appdg2WIBGHM",
        "colab_type": "code",
        "colab": {}
      },
      "source": [
        "tokenizer = Tokenizer(num_words= MAX_VOCAB_SIZE, filters='#$%&()*+<=>@[\\\\]^_`{|}~\\t\\n', lower=True)\n",
        "tokenizer.fit_on_texts(df_train['summary'])\n",
        "word_index = tokenizer.word_index\n",
        "print('Found %s unique tokens.' % len(word_index))"
      ],
      "execution_count": 0,
      "outputs": []
    },
    {
      "cell_type": "code",
      "metadata": {
        "id": "PyTfW3wGBI6w",
        "colab_type": "code",
        "colab": {}
      },
      "source": [
        "X = tokenizer.texts_to_sequences(df_train['summary'].values)\n",
        "X = pad_sequences(X, maxlen=MAX_SEQUENCE_LENGTH)\n",
        "print('Shape of data tensor:', X.shape)\n"
      ],
      "execution_count": 0,
      "outputs": []
    },
    {
      "cell_type": "code",
      "metadata": {
        "id": "kJYqnrZqBJ4L",
        "colab_type": "code",
        "colab": {}
      },
      "source": [
        "Y = pd.get_dummies(df_train['overall']).values\n",
        "print('Shape of label tensor:', Y.shape)"
      ],
      "execution_count": 0,
      "outputs": []
    },
    {
      "cell_type": "code",
      "metadata": {
        "id": "ol7VOc1SwkL7",
        "colab_type": "code",
        "colab": {}
      },
      "source": [
        "from tensorflow.keras.models import Sequential\n",
        "from tensorflow.keras.layers import Dense, Embedding, LSTM, SpatialDropout1D, Conv1D, GlobalMaxPooling1D, Bidirectional,TimeDistributed\n",
        "from tensorflow.keras.callbacks import EarlyStopping\n",
        "from tensorflow.keras.layers import Dropout\n",
        "from numpy import array\n",
        "\n",
        "embedding_dim = 100\n",
        "\n",
        "\n",
        "model = Sequential()\n",
        "model.add(Embedding(MAX_VOCAB_SIZE, EMBEDDING_DIM,input_length=X.shape[1]))\n",
        "model.add(Bidirectional(LSTM(200)))\n",
        "model.add(Dropout(0.5))\n",
        "model.add(Dense(2, activation='relu'))\n",
        "model.add(Dense(2, activation='sigmoid'))\n",
        "model.compile('adam', 'binary_crossentropy', metrics=['accuracy'])\n",
        "\n",
        "epochs=3\n",
        "\n",
        "history = model.fit(X, Y, epochs=epochs)\n",
        "\n"
      ],
      "execution_count": 0,
      "outputs": []
    },
    {
      "cell_type": "code",
      "metadata": {
        "id": "Xkq76iefeGk6",
        "colab_type": "code",
        "colab": {}
      },
      "source": [
        "print(len(model.trainable_weights))"
      ],
      "execution_count": 0,
      "outputs": []
    },
    {
      "cell_type": "code",
      "metadata": {
        "id": "CJKxRC7-CZw1",
        "colab_type": "code",
        "colab": {}
      },
      "source": [
        "# Save the model to Local Disk \n",
        "# https://stackoverflow.com/questions/45424683/how-to-continue-training-for-a-saved-and-then-loaded-keras-model\n",
        "\n",
        "filePath = \"ModelResults/\"+str(folderGUID)+\"/model.h5\"\n",
        "model.save(filePath)\n",
        "print(\"Saved model to disk : \"+ str(folderGUID))"
      ],
      "execution_count": 0,
      "outputs": []
    },
    {
      "cell_type": "code",
      "metadata": {
        "id": "hJ5INhoZCxkU",
        "colab_type": "code",
        "colab": {}
      },
      "source": [
        "# Run additional training if necessary & remember to resave it \n",
        "\n",
        "# Load the model\n",
        "# model = load_model(filePath)\n",
        "\n",
        "# Train more on the loaded model\n",
        "history = model.fit(X, Y, epochs=epochs)"
      ],
      "execution_count": 0,
      "outputs": []
    },
    {
      "cell_type": "code",
      "metadata": {
        "id": "n20p0ku1C3BO",
        "colab_type": "code",
        "colab": {}
      },
      "source": [
        "X_test = tokenizer.texts_to_sequences(df_test['reviewText'].values)\n",
        "X_test = pad_sequences(X_test, maxlen=MAX_SEQUENCE_LENGTH)\n",
        "print('Shape of data tensor:', X_test.shape)\n",
        "\n",
        "Y_Test = pd.get_dummies(df_test['overall']).values\n",
        "print('Shape of label tensor:', Y_Test.shape)\n",
        "\n",
        "accr = model.evaluate(X_test,Y_Test)\n",
        "print('Test set\\n  Loss: {:0.3f}\\n  Accuracy: {:0.3f}'.format(accr[0],accr[1]))"
      ],
      "execution_count": 0,
      "outputs": []
    },
    {
      "cell_type": "code",
      "metadata": {
        "id": "GTSfYw5fC6ZS",
        "colab_type": "code",
        "colab": {}
      },
      "source": [
        "from matplotlib import *\n",
        "import matplotlib.pyplot as plt\n",
        "plt.title('Loss')\n",
        "plt.plot(history.history['loss'], label='train')\n",
        "#plt.plot(history.history['val_loss'], label='test')\n",
        "plt.legend()\n",
        "plt.show();\n",
        "\n",
        "plt.title('Accuracy')\n",
        "plt.plot(history.history['accuracy'], label='train')\n",
        "#plt.plot(history.history['val_acc'], label='test')\n",
        "plt.legend()\n",
        "plt.show();"
      ],
      "execution_count": 0,
      "outputs": []
    },
    {
      "cell_type": "code",
      "metadata": {
        "id": "O9TUSf7YC_Aw",
        "colab_type": "code",
        "colab": {}
      },
      "source": [
        "# Test for single review \n",
        "new_review = ['I am a victim of identity theft and someone stole my identity and personal information to open up a Visa credit card account with Bank of America. The following Bank of America Visa credit card account do not belong to me : XXXX.']\n",
        "seq = tokenizer.texts_to_sequences(new_review)\n",
        "padded = pad_sequences(seq, maxlen=MAX_SEQUENCE_LENGTH)\n",
        "pred = model.predict(padded)\n",
        "\n",
        "\n",
        "print(pred)\n",
        "print(np.argmax(pred))"
      ],
      "execution_count": 0,
      "outputs": []
    },
    {
      "cell_type": "code",
      "metadata": {
        "id": "KexrXBmT8ARH",
        "colab_type": "code",
        "colab": {}
      },
      "source": [
        ""
      ],
      "execution_count": 0,
      "outputs": []
    }
  ]
}