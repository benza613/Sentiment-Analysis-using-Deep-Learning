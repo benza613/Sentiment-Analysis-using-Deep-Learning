{
  "nbformat": 4,
  "nbformat_minor": 0,
  "metadata": {
    "colab": {
      "name": "naive_bayes.ipynb",
      "provenance": [],
      "private_outputs": true,
      "collapsed_sections": [],
      "machine_shape": "hm",
      "authorship_tag": "ABX9TyPOzQHnicPzSgrq4JFpc00i",
      "include_colab_link": true
    },
    "kernelspec": {
      "name": "python3",
      "display_name": "Python 3"
    }
  },
  "cells": [
    {
      "cell_type": "markdown",
      "metadata": {
        "id": "view-in-github",
        "colab_type": "text"
      },
      "source": [
        "<a href=\"https://colab.research.google.com/github/benza613/Sentiment-Analysis-using-Deep-Learning/blob/master/notebooks/naive_bayes.ipynb\" target=\"_parent\"><img src=\"https://colab.research.google.com/assets/colab-badge.svg\" alt=\"Open In Colab\"/></a>"
      ]
    },
    {
      "cell_type": "code",
      "metadata": {
        "id": "G7dM0Fojuo4U",
        "colab_type": "code",
        "colab": {}
      },
      "source": [
        "from google.colab import drive\n",
        "drive.mount('/content/gdrive')"
      ],
      "execution_count": 0,
      "outputs": []
    },
    {
      "cell_type": "code",
      "metadata": {
        "id": "qkkSmk0Vu52H",
        "colab_type": "code",
        "colab": {}
      },
      "source": [
        "%cd gdrive/My\\ Drive/SNLP"
      ],
      "execution_count": 0,
      "outputs": []
    },
    {
      "cell_type": "code",
      "metadata": {
        "id": "YWubEov_u9EL",
        "colab_type": "code",
        "colab": {}
      },
      "source": [
        "%cd Sentiment-Analysis-using-Deep-Learning/"
      ],
      "execution_count": 0,
      "outputs": []
    },
    {
      "cell_type": "code",
      "metadata": {
        "id": "6lyVbGx4u_nQ",
        "colab_type": "code",
        "colab": {}
      },
      "source": [
        "Train_ZipCSVFileName = 'data/Train_2000_Apr-03-2020_06-46.csv'\n",
        "Test_ZipCSVFileName = 'data/Test_2000_Apr-03-2020_06-46.csv'\n",
        "\n",
        "\n",
        "#Train_ZipCSVFileName = 'data/Train_20000_Apr-03-2020_06-52.csv'\n",
        "#Test_ZipCSVFileName = 'data/Test_20000_Apr-03-2020_06-52.csv'\n",
        "\n",
        "import pandas as pd\n",
        "import numpy as np\n",
        "\n",
        "\n",
        "df_train = pd.read_csv(Train_ZipCSVFileName)\n",
        "df_train.info()\n",
        "\n",
        "df_test = pd.read_csv(Test_ZipCSVFileName)\n",
        "df_test.info()"
      ],
      "execution_count": 0,
      "outputs": []
    },
    {
      "cell_type": "code",
      "metadata": {
        "id": "VLVVF6ImvDH4",
        "colab_type": "code",
        "colab": {}
      },
      "source": [
        "## Get names of indexes for which column overall has value 3\n",
        "index_neutrals_train = df_train[ df_train['overall'] == 3 ].index\n",
        "index_neutrals_test = df_test[ df_test['overall'] == 3 ].index\n",
        " \n",
        "# Delete these row indexes from dataFrame\n",
        "df_train.drop(index_neutrals_train , inplace=True)\n",
        "df_test.drop(index_neutrals_test , inplace=True)\n",
        "\n",
        "df_train.loc[(df_train.overall == 1),'overall']= 0\n",
        "df_train.loc[(df_train.overall == 2),'overall']= 0\n",
        "df_train.loc[(df_train.overall == 4),'overall']= 1\n",
        "df_train.loc[(df_train.overall == 5),'overall']= 1\n",
        "\n",
        "df_test.loc[(df_test.overall == 1),'overall']= 0\n",
        "df_test.loc[(df_test.overall == 2),'overall']= 0\n",
        "df_test.loc[(df_test.overall == 4),'overall']= 1\n",
        "df_test.loc[(df_test.overall == 5),'overall']= 1\n",
        "\n",
        "\n",
        "df_train['reviewText_len'].describe()\n",
        "# Since the mean average review size is around 145 chars and max is 400, I can safely set the max [summary + review] Text Limit to 400 \n"
      ],
      "execution_count": 0,
      "outputs": []
    },
    {
      "cell_type": "markdown",
      "metadata": {
        "id": "MjOfb2L-JDIC",
        "colab_type": "text"
      },
      "source": [
        ""
      ]
    },
    {
      "cell_type": "code",
      "metadata": {
        "id": "bTib_VnYveN1",
        "colab_type": "code",
        "colab": {}
      },
      "source": [
        "from sklearn.feature_extraction.text import TfidfVectorizer\n",
        "\n",
        "vectorizer = TfidfVectorizer()\n",
        "features_train = vectorizer.fit_transform(df_train['reviewText'])\n",
        "features_test = vectorizer.transform(df_test['reviewText'])\n",
        "features_train = features_train.toarray()\n",
        "print(features_train.shape, features_test.shape)"
      ],
      "execution_count": 0,
      "outputs": []
    },
    {
      "cell_type": "code",
      "metadata": {
        "id": "FFAlQBwIxH9_",
        "colab_type": "code",
        "colab": {}
      },
      "source": [
        "from sklearn.naive_bayes import GaussianNB\n",
        "\n",
        "from sklearn.naive_bayes import MultinomialNB,BernoulliNB\n",
        "from time import time\n",
        "\n",
        "\n",
        "t0 = time()\n",
        "model = MultinomialNB()\n",
        "model.fit(features_train, df_train['overall'])\n",
        "\n",
        "score_train = model.score(features_train,df_train['overall'])\n",
        "\n",
        "score_test = model.score(features_test, df_test['overall'])\n",
        "\n",
        "print(\"Train set score:\", score_train)\n",
        "print(\"Test set score:\", score_test)"
      ],
      "execution_count": 0,
      "outputs": []
    }
  ]
}