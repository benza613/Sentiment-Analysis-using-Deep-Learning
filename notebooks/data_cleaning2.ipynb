{
  "nbformat": 4,
  "nbformat_minor": 0,
  "metadata": {
    "colab": {
      "name": "data_cleaning2.ipynb",
      "provenance": [],
      "collapsed_sections": [],
      "toc_visible": true,
      "machine_shape": "hm"
    },
    "kernelspec": {
      "name": "python3",
      "display_name": "Python 3"
    },
    "pycharm": {
      "stem_cell": {
        "cell_type": "raw",
        "source": [],
        "metadata": {
          "collapsed": false
        }
      }
    }
  },
  "cells": [
    {
      "cell_type": "code",
      "metadata": {
        "id": "y65bNUCbGLDc",
        "colab_type": "code",
        "colab": {
          "base_uri": "https://localhost:8080/",
          "height": 129
        },
        "outputId": "ceebf5a2-eeb5-479d-c0de-71e6db232e54"
      },
      "source": [
        "from google.colab import drive\n",
        "drive.mount('/content/drive')"
      ],
      "execution_count": 1,
      "outputs": [
        {
          "output_type": "stream",
          "text": [
            "Go to this URL in a browser: https://accounts.google.com/o/oauth2/auth?client_id=947318989803-6bn6qk8qdgf4n4g3pfee6491hc0brc4i.apps.googleusercontent.com&redirect_uri=urn%3aietf%3awg%3aoauth%3a2.0%3aoob&response_type=code&scope=email%20https%3a%2f%2fwww.googleapis.com%2fauth%2fdocs.test%20https%3a%2f%2fwww.googleapis.com%2fauth%2fdrive%20https%3a%2f%2fwww.googleapis.com%2fauth%2fdrive.photos.readonly%20https%3a%2f%2fwww.googleapis.com%2fauth%2fpeopleapi.readonly\n",
            "\n",
            "Enter your authorization code:\n",
            "··········\n",
            "Mounted at /content/drive\n"
          ],
          "name": "stdout"
        }
      ]
    },
    {
      "cell_type": "code",
      "metadata": {
        "id": "NI1VcnDEOb7D",
        "colab_type": "code",
        "colab": {}
      },
      "source": [
        "# unmount google drive directory code \n",
        "# drive.flush_and_unmount()"
      ],
      "execution_count": 0,
      "outputs": []
    },
    {
      "cell_type": "code",
      "metadata": {
        "id": "HkTWvdCuEjXx",
        "colab_type": "code",
        "pycharm": {
          "is_executing": false
        },
        "colab": {}
      },
      "source": [
        "import os\n",
        "import json\n",
        "import gzip\n",
        "import pandas as pd\n",
        "from urllib.request import urlopen\n",
        "import numpy as np\n",
        "import matplotlib as mpl"
      ],
      "execution_count": 0,
      "outputs": []
    },
    {
      "cell_type": "code",
      "metadata": {
        "id": "MaFW26w5Fnq0",
        "colab_type": "code",
        "pycharm": {
          "is_executing": false
        },
        "colab": {}
      },
      "source": [
        "# you can either download the file from here or directly open it after mounting google drive\n",
        "\n",
        "#!wget http://deepyeti.ucsd.edu/jianmo/amazon/categoryFilesSmall/Electronics_5.json.gz\n",
        "#!wget https://drive.google.com/file/d/18wfGKYb0dgc6sUQn9Szylc6Qn5gPHdkN"
      ],
      "execution_count": 0,
      "outputs": []
    },
    {
      "cell_type": "code",
      "metadata": {
        "id": "1ds0d9qvOepr",
        "colab_type": "code",
        "outputId": "3e9c9ed7-7e40-4802-c486-f4547c45942f",
        "pycharm": {
          "is_executing": false
        },
        "colab": {
          "base_uri": "https://localhost:8080/",
          "height": 35
        }
      },
      "source": [
        "# set working directory -> you must set the path into which you have uploaded the zipped file\n",
        "# this is required in the case of colab or local \n",
        "%cd /content/drive/My\\ Drive/SNLP\\ Project\n",
        "# %cd Source/repos/Sentiment-Analysis-using-Deep-Learning"
      ],
      "execution_count": 3,
      "outputs": [
        {
          "output_type": "stream",
          "text": [
            "/content/drive/My Drive/SNLP Project\n"
          ],
          "name": "stdout"
        }
      ]
    },
    {
      "cell_type": "code",
      "metadata": {
        "id": "wHI89tLFOiSo",
        "colab_type": "code",
        "outputId": "3a2b73fd-0bda-40bf-b4f9-f78ef100a343",
        "colab": {
          "base_uri": "https://localhost:8080/",
          "height": 54
        }
      },
      "source": [
        "# list content of drive\n",
        "%ls"
      ],
      "execution_count": 4,
      "outputs": [
        {
          "output_type": "stream",
          "text": [
            " Electronics_5.json.gz  'Project Ideas.gdoc'     \u001b[0m\u001b[01;34m'Report MetaData'\u001b[0m/\n",
            " electronics_5.npy      'Project Proposal.gdoc'\n"
          ],
          "name": "stdout"
        }
      ]
    },
    {
      "cell_type": "code",
      "metadata": {
        "id": "GnYQE0p1PDxY",
        "colab_type": "code",
        "pycharm": {
          "is_executing": false
        },
        "colab": {}
      },
      "source": [
        "# First way to read data : \n",
        "# Code to read json.gz into array\n",
        "\n",
        "data = []\n",
        "with gzip.open('Electronics_5.json.gz') as f:\n",
        "    for l in f:\n",
        "        data.append(json.loads(l.strip()))\n",
        "\n",
        "        if len(data) % 100000 == 0 :\n",
        "          print(len(data))\n",
        "    \n",
        "# total length of list, this number equals total number of products\n",
        "print('Final length', len(data))\n",
        "\n",
        "# first row of the list\n",
        "print(data[0])\n"
      ],
      "execution_count": 0,
      "outputs": []
    },
    {
      "cell_type": "code",
      "metadata": {
        "id": "gbyExKoIhcA4",
        "colab_type": "code",
        "colab": {}
      },
      "source": [
        "# Save data into numpy binary files so we dont have to load it from a json file each time\n",
        "np.save('electronics_5.npy', data)\n",
        "print('saved')"
      ],
      "execution_count": 0,
      "outputs": []
    },
    {
      "cell_type": "code",
      "metadata": {
        "id": "bdB3FerUg4aY",
        "colab_type": "code",
        "colab": {}
      },
      "source": [
        "data = np.load('electronics_5.npy', allow_pickle=True)\n",
        "\n",
        "# total length of list, this number equals total number of products\n",
        "print(len(data))\n"
      ],
      "execution_count": 0,
      "outputs": []
    },
    {
      "cell_type": "code",
      "metadata": {
        "id": "bCcw9217ZPKR",
        "colab_type": "code",
        "colab": {}
      },
      "source": [
        "# alternatively Code to read json file into Panda Array \n",
        "with gzip.open('Electronics_5.json.gz') as json_file:      \n",
        "    df = json_file.readlines()\n",
        "    # this line below may take at least 8-10 minutes of processing for 4-5 million rows. It converts all strings in list to actual json objects. \n",
        "    df = list(map(json.loads, df)) \n",
        "\n",
        "df = pd.DataFrame(df)\n",
        "\n",
        "\n",
        "#for i, row in data.iterrows():\n",
        "#    ifor_val = something\n",
        "#    if <condition>:\n",
        "#      ifor_val = something_else\n",
        "#    df.at[i,'ifor'] = ifor_val"
      ],
      "execution_count": 0,
      "outputs": []
    },
    {
      "cell_type": "code",
      "metadata": {
        "id": "HD9VrJDBiE-9",
        "colab_type": "code",
        "colab": {
          "base_uri": "https://localhost:8080/",
          "height": 1000
        },
        "outputId": "57dc9641-8c87-4d5f-a96d-dd2e7fcc8a0b"
      },
      "source": [
        "total_cols = ['overall','vote','verified','reviewTime','reviewerID','asin','style','reviewerName','reviewText','summary','unixReviewTime','image']\n",
        "\n",
        "# cols we want to explore\n",
        "review_cols = ['overall','vote','verified','reviewerID','asin','reviewerName']\n",
        "\n",
        "# data exploration \n",
        "# df.info()\n",
        "\n",
        "# check if columns contain null values \n",
        "pd.isnull(df).any()\n",
        "\n",
        "for col in review_cols:\n",
        "  print(col)\n",
        "\n",
        "  print('\\n Total Uniques')\n",
        "  print(df[col].nunique())\n",
        "  print('\\n Uniques Items')\n",
        "  print(df[col].unique())\n",
        "  print('\\n Uniques Counts')\n",
        "  print(df[col].value_counts())\n",
        "\n",
        "  print('---------------------------------')"
      ],
      "execution_count": 20,
      "outputs": [
        {
          "output_type": "stream",
          "text": [
            "overall\n",
            "\n",
            " Total Uniques\n",
            "5\n",
            "\n",
            " Uniques Items\n",
            "[5. 3. 4. 2. 1.]\n",
            "\n",
            " Uniques Counts\n",
            "5.0    4323582\n",
            "4.0    1137393\n",
            "3.0     504781\n",
            "1.0     467158\n",
            "2.0     306676\n",
            "Name: overall, dtype: int64\n",
            "---------------------------------\n",
            "vote\n",
            "\n",
            " Total Uniques\n",
            "1171\n",
            "\n",
            " Uniques Items\n",
            "['67' '5' '4' ... '1,542' '1,121' '705']\n",
            "\n",
            " Uniques Counts\n",
            "2        310316\n",
            "3        161839\n",
            "4         96513\n",
            "5         65587\n",
            "6         46409\n",
            "          ...  \n",
            "716           1\n",
            "930           1\n",
            "1,176         1\n",
            "816           1\n",
            "1,385         1\n",
            "Name: vote, Length: 1171, dtype: int64\n",
            "---------------------------------\n",
            "verified\n",
            "\n",
            " Total Uniques\n",
            "2\n",
            "\n",
            " Uniques Items\n",
            "[ True False]\n",
            "\n",
            " Uniques Counts\n",
            "True     6038416\n",
            "False     701174\n",
            "Name: verified, dtype: int64\n",
            "---------------------------------\n",
            "reviewerID\n",
            "\n",
            " Total Uniques\n",
            "728719\n",
            "\n",
            " Uniques Items\n",
            "['AAP7PPBU72QFM' 'A2E168DTVGE6SV' 'A1ER5AYS3FQ9O3' ... 'ALQRGMBK4U4CZ'\n",
            " 'A97SFUJ82RSGA' 'A7NS5NFV55Q8F']\n",
            "\n",
            " Uniques Counts\n",
            "A680RUE1FDO8B     604\n",
            "A3OXHLG6DIBRW8    519\n",
            "ADLVFFE4VBT8      499\n",
            "A1X1CEGHTHMBL1    444\n",
            "A31N0XY2UTB25C    444\n",
            "                 ... \n",
            "A2E9HZGV4AG7GP      4\n",
            "A22GTVN7Q9IZVT      4\n",
            "A2HC8YQVZ4HMF5      4\n",
            "A1C2SBVHTD0S7B      4\n",
            "A938VHR4N462L       3\n",
            "Name: reviewerID, Length: 728719, dtype: int64\n",
            "---------------------------------\n",
            "asin\n",
            "\n",
            " Total Uniques\n",
            "160052\n",
            "\n",
            " Uniques Items\n",
            "['0151004714' '0380709473' '0446697192' ... 'B01HICMCZ8' 'B01HICMC3A'\n",
            " 'B01HIS365W']\n",
            "\n",
            " Uniques Counts\n",
            "B003L1ZYYW    8617\n",
            "B0019HL8Q8    8160\n",
            "B0019EHU8G    7777\n",
            "B0015DYMVO    7380\n",
            "B000VS4HDM    6802\n",
            "              ... \n",
            "B0013MYX9S       1\n",
            "B00125Q77C       1\n",
            "B0012KHNZW       1\n",
            "B0013MYX8E       1\n",
            "B000YJAWUA       1\n",
            "Name: asin, Length: 160052, dtype: int64\n",
            "---------------------------------\n",
            "reviewerName\n",
            "\n",
            " Total Uniques\n",
            "513717\n",
            "\n",
            " Uniques Items\n",
            "['D. C. Carrad' 'Evy' 'Kcorn' ... 'PUNCRAWQ' 'Coq au Balls' 'James77']\n",
            "\n",
            " Uniques Counts\n",
            "Amazon Customer    223915\n",
            "Kindle Customer     24859\n",
            "Mike                12805\n",
            "John                12279\n",
            "Chris               10355\n",
            "                    ...  \n",
            "Shane Stafford          1\n",
            "Ron01Cbra               1\n",
            "Sean Warner             1\n",
            "Dave Steiner            1\n",
            "Darth_Se7en             1\n",
            "Name: reviewerName, Length: 513717, dtype: int64\n",
            "---------------------------------\n"
          ],
          "name": "stdout"
        }
      ]
    },
    {
      "cell_type": "code",
      "metadata": {
        "id": "lZ8M04bkya1x",
        "colab_type": "code",
        "colab": {}
      },
      "source": [
        "# Get an idea of review text and summary length incase we want to encode them as params \n",
        "df['reviewText_len'] = df['reviewText'].map(lambda x: len(str(x)))\n",
        "df['summary_len'] = df['summary'].map(lambda x: len(str(x)))"
      ],
      "execution_count": 0,
      "outputs": []
    },
    {
      "cell_type": "code",
      "metadata": {
        "id": "gveOb11uzAV4",
        "colab_type": "code",
        "colab": {
          "base_uri": "https://localhost:8080/",
          "height": 182
        },
        "outputId": "42226fde-60c7-445b-9400-08d18d0ff0de"
      },
      "source": [
        "df['reviewText_len'].describe().apply(\"{0:.3f}\".format)"
      ],
      "execution_count": 7,
      "outputs": [
        {
          "output_type": "execute_result",
          "data": {
            "text/plain": [
              "count    6739590.000\n",
              "mean         354.149\n",
              "std          648.971\n",
              "min            1.000\n",
              "25%           55.000\n",
              "50%          155.000\n",
              "75%          384.000\n",
              "max        33331.000\n",
              "Name: reviewText_len, dtype: object"
            ]
          },
          "metadata": {
            "tags": []
          },
          "execution_count": 7
        }
      ]
    },
    {
      "cell_type": "code",
      "metadata": {
        "id": "uBoheSZPzA9T",
        "colab_type": "code",
        "colab": {
          "base_uri": "https://localhost:8080/",
          "height": 182
        },
        "outputId": "b697094e-7ed7-4f8d-8361-5265de6fa92f"
      },
      "source": [
        "df['summary_len'].describe().apply(\"{0:.3f}\".format)"
      ],
      "execution_count": 8,
      "outputs": [
        {
          "output_type": "execute_result",
          "data": {
            "text/plain": [
              "count    6739590.000\n",
              "mean          25.619\n",
              "std           19.886\n",
              "min            1.000\n",
              "25%           10.000\n",
              "50%           19.000\n",
              "75%           35.000\n",
              "max          353.000\n",
              "Name: summary_len, dtype: object"
            ]
          },
          "metadata": {
            "tags": []
          },
          "execution_count": 8
        }
      ]
    },
    {
      "cell_type": "code",
      "metadata": {
        "id": "FQzWy-XH19YQ",
        "colab_type": "code",
        "colab": {
          "base_uri": "https://localhost:8080/",
          "height": 531
        },
        "outputId": "6870d632-c8c3-4061-b7ce-b960c90ea4d1"
      },
      "source": [
        "# plot the lengths to get a graphical view of the data \n",
        "df['reviewText_len'].plot(kind='hist', bins=1000, figsize=(25,8))"
      ],
      "execution_count": 56,
      "outputs": [
        {
          "output_type": "stream",
          "text": [
            "ERROR! Session/line number was not unique in database. History logging moved to new session 60\n"
          ],
          "name": "stdout"
        },
        {
          "output_type": "execute_result",
          "data": {
            "text/plain": [
              "<matplotlib.axes._subplots.AxesSubplot at 0x7f5869140b00>"
            ]
          },
          "metadata": {
            "tags": []
          },
          "execution_count": 56
        },
        {
          "output_type": "display_data",
          "data": {
            "image/png": "[encoded data removed]",
            "text/plain": [
              "<Figure size 1800x576 with 1 Axes>"
            ]
          },
          "metadata": {
            "tags": []
          }
        }
      ]
    },
    {
      "cell_type": "code",
      "metadata": {
        "id": "xKkgh7Rv5mW6",
        "colab_type": "code",
        "colab": {
          "base_uri": "https://localhost:8080/",
          "height": 483
        },
        "outputId": "7e858003-c150-434e-938d-ba0a18d62146"
      },
      "source": [
        "\n",
        "# plot the lengths to get a graphical view of the data \n",
        "ax = df['summary_len'].plot(kind='hist', bins=50, figsize=(25,8))\n",
        "ax.yaxis.set_major_formatter(mpl.ticker.StrMethodFormatter('{x:,.0f}'))\n"
      ],
      "execution_count": 61,
      "outputs": [
        {
          "output_type": "display_data",
          "data": {
            "image/png": "[encoded data removed]",
            "text/plain": [
              "<Figure size 1800x576 with 1 Axes>"
            ]
          },
          "metadata": {
            "tags": []
          }
        }
      ]
    },
    {
      "cell_type": "code",
      "metadata": {
        "id": "pk2fyoA_Guy4",
        "colab_type": "code",
        "colab": {}
      },
      "source": [
        "import string\n",
        "import re\n",
        "\n",
        "# from nltk.stem.porter import PorterStemmer\n",
        "from nltk.stem.snowball import SnowballStemmer\n",
        "snb_stemmer = SnowballStemmer(\"english\")\n",
        "# from nltk.stem import WordNetLemmatizer\n",
        "# wordnet_lemmatizer = WordNetLemmatizer()\n",
        "\n",
        "\n",
        "#https://github.com/abdulfatir/twitter-sentiment-analysis/blob/master/code/preprocess.py\n",
        "\n",
        "def preprocess_sent(review,task):\n",
        "  global preproc_counter\n",
        "  if(preproc_counter % 10000 == 0):\n",
        "    print('----Preprocessing '+task+ ' ---- ', preproc_counter)\n",
        "\n",
        "  preproc_counter+= 1\n",
        "\n",
        "  processed_review = []\n",
        "  # Convert to lower case\n",
        "  review = str(review).lower()\n",
        "  # Replaces URLs with the word URL\n",
        "  review = re.sub(r'((www\\.[\\S]+)|(https?://[\\S]+))', ' URL ', review)\n",
        "  # Replaces #hashtag with hashtag\n",
        "  review = re.sub(r'#(\\S+)', r' \\1 ', review)\n",
        "  # Replace 2+ dots with space\n",
        "  review = re.sub(r'\\.{2,}', ' ', review)\n",
        "  # Strip space, \" and ' from tweet\n",
        "  # review = review.strip(' \"\\'')\n",
        "  # Replace emojis with either EMO_POS or EMO_NEG\n",
        "  review = handle_emojis(review)\n",
        "\n",
        "  # Replace multiple spaces with a single space\n",
        "  review = re.sub(r'\\s+', ' ', review)\n",
        "  words = review.split()\n",
        "\n",
        "  for word in words:\n",
        "    word = preprocess_word(word)\n",
        "    word = str(snb_stemmer.stem(word))\n",
        "    processed_review.append(word)\n",
        "\n",
        "  return ' '.join(processed_review)\n",
        "\n",
        "\n",
        "def preprocess_word(review):\n",
        "  # Remove punctuation\n",
        "  word = review.strip('\\'\"?!,.():;')\n",
        "  # Convert more than 2 letter repetitions to 2 letter\n",
        "  # funnnnny / hmmmmm --> funny / hmm\n",
        "  word = re.sub(r'(.)\\1+', r'\\1\\1', word)\n",
        "  # Remove - and '\n",
        "  word = re.sub(r'(-|\\')', '', word)\n",
        "\n",
        "  return word\n",
        "\n",
        "\n",
        "def handle_emojis(text):\n",
        "    # Smile -- :), : ), :-), (:, ( :, (-:, :')\n",
        "    text = re.sub(r'(:\\s?\\)|:-\\)|\\(\\s?:|\\(-:|:\\'\\))', ' EMO_POS ', text)\n",
        "    # Laugh -- :D, : D, :-D, xD, x-D, XD, X-D\n",
        "    text = re.sub(r'(:\\s?D|:-D|x-?D|X-?D)', ' EMO_POS ', text)\n",
        "    # Love -- <3, :*\n",
        "    text = re.sub(r'(<3|:\\*)', ' EMO_POS ', text)\n",
        "    # Wink -- ;-), ;), ;-D, ;D, (;,  (-;\n",
        "    text = re.sub(r'(;-?\\)|;-?D|\\(-?;)', ' EMO_POS ', text)\n",
        "    # Sad -- :-(, : (, :(, ):, )-:\n",
        "    text = re.sub(r'(:\\s?\\(|:-\\(|\\)\\s?:|\\)-:)', ' EMO_NEG ', text)\n",
        "    # Cry -- :,(, :'(, :\"(\n",
        "    text = re.sub(r'(:,\\(|:\\'\\(|:\"\\()', ' EMO_NEG ', text)\n",
        "    return text"
      ],
      "execution_count": 0,
      "outputs": []
    },
    {
      "cell_type": "code",
      "metadata": {
        "id": "SIL4T29hRrD0",
        "colab_type": "code",
        "colab": {
          "base_uri": "https://localhost:8080/",
          "height": 311
        },
        "outputId": "93fa668b-7f15-43b5-cf16-294e88409232"
      },
      "source": [
        "# DATA PREPROCESSING PART\n",
        "\n",
        "# testing \n",
        "preproc_counter = 0 \n",
        "\n",
        "# Clean the dataframe reviewText and Summary columns\n",
        "df['reviewText'] = df['reviewText'].map(lambda x: preprocess_sent(x,'reviewText'))\n",
        "print('---- processed reviewText ----')\n",
        "\n",
        "# testing \n",
        "preproc_counter = 0\n",
        "\n",
        "df['summary'] = df['summary'].map(lambda x: preprocess_sent(x,'summary'))\n",
        "print('---- processed summary ----')"
      ],
      "execution_count": 0,
      "outputs": [
        {
          "output_type": "stream",
          "text": [
            "----Preprocessing reviewText ----  0\n",
            "----Preprocessing reviewText ----  10000\n",
            "----Preprocessing reviewText ----  20000\n",
            "----Preprocessing reviewText ----  30000\n",
            "----Preprocessing reviewText ----  40000\n",
            "----Preprocessing reviewText ----  50000\n",
            "----Preprocessing reviewText ----  60000\n",
            "----Preprocessing reviewText ----  70000\n",
            "----Preprocessing reviewText ----  80000\n",
            "----Preprocessing reviewText ----  90000\n",
            "----Preprocessing reviewText ----  100000\n",
            "----Preprocessing reviewText ----  110000\n",
            "----Preprocessing reviewText ----  120000\n",
            "----Preprocessing reviewText ----  130000\n",
            "----Preprocessing reviewText ----  140000\n",
            "----Preprocessing reviewText ----  150000\n"
          ],
          "name": "stdout"
        }
      ]
    },
    {
      "cell_type": "code",
      "metadata": {
        "id": "API-J20MZKmV",
        "colab_type": "code",
        "colab": {}
      },
      "source": [
        "\n",
        "\n",
        "\n",
        "from nltk import pos_tag, word_tokenize\n",
        "import tensorflow as tf\n",
        "from sklearn.utils import shuffle\n",
        "\n",
        "# need to remove punctuation, see compatibility with penn treebank"
      ],
      "execution_count": 0,
      "outputs": []
    },
    {
      "cell_type": "code",
      "metadata": {
        "id": "HMuRgXITbDQZ",
        "colab_type": "code",
        "colab": {
          "base_uri": "https://localhost:8080/",
          "height": 771
        },
        "outputId": "c3b57a65-789e-4d67-bf65-c103168aa41b"
      },
      "source": [
        "df"
      ],
      "execution_count": 27,
      "outputs": [
        {
          "output_type": "execute_result",
          "data": {
            "text/html": [
              "<div>\n",
              "<style scoped>\n",
              "    .dataframe tbody tr th:only-of-type {\n",
              "        vertical-align: middle;\n",
              "    }\n",
              "\n",
              "    .dataframe tbody tr th {\n",
              "        vertical-align: top;\n",
              "    }\n",
              "\n",
              "    .dataframe thead th {\n",
              "        text-align: right;\n",
              "    }\n",
              "</style>\n",
              "<table border=\"1\" class=\"dataframe\">\n",
              "  <thead>\n",
              "    <tr style=\"text-align: right;\">\n",
              "      <th></th>\n",
              "      <th>overall</th>\n",
              "      <th>vote</th>\n",
              "      <th>verified</th>\n",
              "      <th>reviewTime</th>\n",
              "      <th>reviewerID</th>\n",
              "      <th>asin</th>\n",
              "      <th>style</th>\n",
              "      <th>reviewerName</th>\n",
              "      <th>reviewText</th>\n",
              "      <th>summary</th>\n",
              "      <th>unixReviewTime</th>\n",
              "      <th>image</th>\n",
              "      <th>reviewText_len</th>\n",
              "      <th>summary_len</th>\n",
              "    </tr>\n",
              "  </thead>\n",
              "  <tbody>\n",
              "    <tr>\n",
              "      <th>0</th>\n",
              "      <td>5.0</td>\n",
              "      <td>67</td>\n",
              "      <td>True</td>\n",
              "      <td>09 18, 1999</td>\n",
              "      <td>AAP7PPBU72QFM</td>\n",
              "      <td>0151004714</td>\n",
              "      <td>{'Format:': ' Hardcover'}</td>\n",
              "      <td>D. C. Carrad</td>\n",
              "      <td>This is the best novel I have read in 2 or 3 y...</td>\n",
              "      <td>A star is born</td>\n",
              "      <td>937612800</td>\n",
              "      <td>NaN</td>\n",
              "      <td>1095</td>\n",
              "      <td>14</td>\n",
              "    </tr>\n",
              "    <tr>\n",
              "      <th>1</th>\n",
              "      <td>3.0</td>\n",
              "      <td>5</td>\n",
              "      <td>True</td>\n",
              "      <td>10 23, 2013</td>\n",
              "      <td>A2E168DTVGE6SV</td>\n",
              "      <td>0151004714</td>\n",
              "      <td>{'Format:': ' Kindle Edition'}</td>\n",
              "      <td>Evy</td>\n",
              "      <td>Pages and pages of introspection, in the style...</td>\n",
              "      <td>A stream of consciousness novel</td>\n",
              "      <td>1382486400</td>\n",
              "      <td>NaN</td>\n",
              "      <td>456</td>\n",
              "      <td>31</td>\n",
              "    </tr>\n",
              "    <tr>\n",
              "      <th>2</th>\n",
              "      <td>5.0</td>\n",
              "      <td>4</td>\n",
              "      <td>False</td>\n",
              "      <td>09 2, 2008</td>\n",
              "      <td>A1ER5AYS3FQ9O3</td>\n",
              "      <td>0151004714</td>\n",
              "      <td>{'Format:': ' Paperback'}</td>\n",
              "      <td>Kcorn</td>\n",
              "      <td>This is the kind of novel to read when you hav...</td>\n",
              "      <td>I'm a huge fan of the author and this one did ...</td>\n",
              "      <td>1220313600</td>\n",
              "      <td>NaN</td>\n",
              "      <td>2102</td>\n",
              "      <td>60</td>\n",
              "    </tr>\n",
              "    <tr>\n",
              "      <th>3</th>\n",
              "      <td>5.0</td>\n",
              "      <td>13</td>\n",
              "      <td>False</td>\n",
              "      <td>09 4, 2000</td>\n",
              "      <td>A1T17LMQABMBN5</td>\n",
              "      <td>0151004714</td>\n",
              "      <td>{'Format:': ' Hardcover'}</td>\n",
              "      <td>Caf Girl Writes</td>\n",
              "      <td>What gorgeous language! What an incredible wri...</td>\n",
              "      <td>The most beautiful book I have ever read!</td>\n",
              "      <td>968025600</td>\n",
              "      <td>NaN</td>\n",
              "      <td>1209</td>\n",
              "      <td>41</td>\n",
              "    </tr>\n",
              "    <tr>\n",
              "      <th>4</th>\n",
              "      <td>3.0</td>\n",
              "      <td>8</td>\n",
              "      <td>True</td>\n",
              "      <td>02 4, 2000</td>\n",
              "      <td>A3QHJ0FXK33OBE</td>\n",
              "      <td>0151004714</td>\n",
              "      <td>{'Format:': ' Hardcover'}</td>\n",
              "      <td>W. Shane Schmidt</td>\n",
              "      <td>I was taken in by reviews that compared this b...</td>\n",
              "      <td>A dissenting view--In part.</td>\n",
              "      <td>949622400</td>\n",
              "      <td>NaN</td>\n",
              "      <td>1433</td>\n",
              "      <td>27</td>\n",
              "    </tr>\n",
              "    <tr>\n",
              "      <th>...</th>\n",
              "      <td>...</td>\n",
              "      <td>...</td>\n",
              "      <td>...</td>\n",
              "      <td>...</td>\n",
              "      <td>...</td>\n",
              "      <td>...</td>\n",
              "      <td>...</td>\n",
              "      <td>...</td>\n",
              "      <td>...</td>\n",
              "      <td>...</td>\n",
              "      <td>...</td>\n",
              "      <td>...</td>\n",
              "      <td>...</td>\n",
              "      <td>...</td>\n",
              "    </tr>\n",
              "    <tr>\n",
              "      <th>6739585</th>\n",
              "      <td>4.0</td>\n",
              "      <td>NaN</td>\n",
              "      <td>True</td>\n",
              "      <td>03 21, 2017</td>\n",
              "      <td>A33MAQA919J2V8</td>\n",
              "      <td>B01HJH40WU</td>\n",
              "      <td>NaN</td>\n",
              "      <td>Kurt Wurm</td>\n",
              "      <td>These seem like quality USB cables, time will ...</td>\n",
              "      <td>Four Stars</td>\n",
              "      <td>1490054400</td>\n",
              "      <td>NaN</td>\n",
              "      <td>50</td>\n",
              "      <td>10</td>\n",
              "    </tr>\n",
              "    <tr>\n",
              "      <th>6739586</th>\n",
              "      <td>4.0</td>\n",
              "      <td>NaN</td>\n",
              "      <td>True</td>\n",
              "      <td>01 9, 2017</td>\n",
              "      <td>A1AKHSCPD1BHM4</td>\n",
              "      <td>B01HJH40WU</td>\n",
              "      <td>NaN</td>\n",
              "      <td>C.L Momof3</td>\n",
              "      <td>Works great, love the longer cord. As with any...</td>\n",
              "      <td>Nice long cord</td>\n",
              "      <td>1483920000</td>\n",
              "      <td>NaN</td>\n",
              "      <td>152</td>\n",
              "      <td>14</td>\n",
              "    </tr>\n",
              "    <tr>\n",
              "      <th>6739587</th>\n",
              "      <td>5.0</td>\n",
              "      <td>2</td>\n",
              "      <td>True</td>\n",
              "      <td>12 1, 2016</td>\n",
              "      <td>A2HUZO7MQAY5I2</td>\n",
              "      <td>B01HJH40WU</td>\n",
              "      <td>NaN</td>\n",
              "      <td>michael clontz</td>\n",
              "      <td>Ok here is an odd thing that happened to me, I...</td>\n",
              "      <td>Not the correct product as linked in the sale.</td>\n",
              "      <td>1480550400</td>\n",
              "      <td>NaN</td>\n",
              "      <td>528</td>\n",
              "      <td>46</td>\n",
              "    </tr>\n",
              "    <tr>\n",
              "      <th>6739588</th>\n",
              "      <td>5.0</td>\n",
              "      <td>2</td>\n",
              "      <td>True</td>\n",
              "      <td>11 29, 2016</td>\n",
              "      <td>AJJ7VX2L91X2W</td>\n",
              "      <td>B01HJH40WU</td>\n",
              "      <td>NaN</td>\n",
              "      <td>Faith</td>\n",
              "      <td>Works well.</td>\n",
              "      <td>Five Stars</td>\n",
              "      <td>1480377600</td>\n",
              "      <td>NaN</td>\n",
              "      <td>11</td>\n",
              "      <td>10</td>\n",
              "    </tr>\n",
              "    <tr>\n",
              "      <th>6739589</th>\n",
              "      <td>5.0</td>\n",
              "      <td>NaN</td>\n",
              "      <td>True</td>\n",
              "      <td>03 31, 2017</td>\n",
              "      <td>A1FGCIRPRNZWD5</td>\n",
              "      <td>B01HJF704M</td>\n",
              "      <td>NaN</td>\n",
              "      <td>Brando</td>\n",
              "      <td>I have it plugged into a usb extension on my g...</td>\n",
              "      <td>Works well enough..</td>\n",
              "      <td>1490918400</td>\n",
              "      <td>NaN</td>\n",
              "      <td>432</td>\n",
              "      <td>19</td>\n",
              "    </tr>\n",
              "  </tbody>\n",
              "</table>\n",
              "<p>6739590 rows × 14 columns</p>\n",
              "</div>"
            ],
            "text/plain": [
              "         overall vote  verified  ... image reviewText_len summary_len\n",
              "0            5.0   67      True  ...   NaN           1095          14\n",
              "1            3.0    5      True  ...   NaN            456          31\n",
              "2            5.0    4     False  ...   NaN           2102          60\n",
              "3            5.0   13     False  ...   NaN           1209          41\n",
              "4            3.0    8      True  ...   NaN           1433          27\n",
              "...          ...  ...       ...  ...   ...            ...         ...\n",
              "6739585      4.0  NaN      True  ...   NaN             50          10\n",
              "6739586      4.0  NaN      True  ...   NaN            152          14\n",
              "6739587      5.0    2      True  ...   NaN            528          46\n",
              "6739588      5.0    2      True  ...   NaN             11          10\n",
              "6739589      5.0  NaN      True  ...   NaN            432          19\n",
              "\n",
              "[6739590 rows x 14 columns]"
            ]
          },
          "metadata": {
            "tags": []
          },
          "execution_count": 27
        }
      ]
    }
  ]
}