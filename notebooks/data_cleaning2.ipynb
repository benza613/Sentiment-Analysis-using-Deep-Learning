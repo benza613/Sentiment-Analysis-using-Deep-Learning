{
 "nbformat": 4,
 "nbformat_minor": 0,
 "metadata": {
  "colab": {
   "name": "data_cleaning2.ipynb",
   "provenance": [],
   "collapsed_sections": [],
   "machine_shape": "hm"
  },
  "kernelspec": {
   "name": "iml_env",
   "language": "python",
   "display_name": "iml_env"
  },
  "pycharm": {
   "stem_cell": {
    "cell_type": "raw",
    "source": [],
    "metadata": {
     "collapsed": false
    }
   }
  }
 },
 "cells": [
  {
   "cell_type": "code",
   "metadata": {
    "id": "y65bNUCbGLDc",
    "colab_type": "code",
    "colab": {}
   },
   "source": [
    "from google.colab import drive\n",
    "drive.mount('/content/drive')"
   ],
   "execution_count": null,
   "outputs": []
  },
  {
   "cell_type": "code",
   "metadata": {
    "id": "NI1VcnDEOb7D",
    "colab_type": "code",
    "colab": {}
   },
   "source": [
    "# unmount google drive directory code \n",
    "# drive.flush_and_unmount()"
   ],
   "execution_count": null,
   "outputs": []
  },
  {
   "cell_type": "code",
   "metadata": {
    "id": "HkTWvdCuEjXx",
    "colab_type": "code",
    "colab": {},
    "pycharm": {
     "is_executing": false
    }
   },
   "source": [
    "import os\n",
    "import json\n",
    "import gzip\n",
    "import pandas as pd\n",
    "from urllib.request import urlopen\n",
    "import numpy as np\n",
    "\n",
    "print('hi2')"
   ],
   "execution_count": 2,
   "outputs": [
    {
     "name": "stdout",
     "text": [
      "hi2\n"
     ],
     "output_type": "stream"
    }
   ]
  },
  {
   "cell_type": "code",
   "metadata": {
    "id": "MaFW26w5Fnq0",
    "colab_type": "code",
    "colab": {},
    "pycharm": {
     "is_executing": false
    }
   },
   "source": [
    "# you can either download the file from here or directly open it after mounting google drive\n",
    "\n",
    "#!wget http://deepyeti.ucsd.edu/jianmo/amazon/categoryFilesSmall/Electronics_5.json.gz\n",
    "#!wget https://drive.google.com/file/d/18wfGKYb0dgc6sUQn9Szylc6Qn5gPHdkN"
   ],
   "execution_count": null,
   "outputs": []
  },
  {
   "cell_type": "code",
   "metadata": {
    "id": "1ds0d9qvOepr",
    "colab_type": "code",
    "colab": {
     "base_uri": "https://localhost:8080/",
     "height": 35
    },
    "outputId": "318d7f78-5c1f-46db-aac3-8551740444e3",
    "pycharm": {
     "is_executing": false
    }
   },
   "source": [
    "# set working directory -> you must set the path into which you have uploaded the zipped file\n",
    "# %cd /content/drive/My\\ Drive/SNLP\\ Project\n",
    "%cd Source/repos/Sentiment-Analysis-using-Deep-Learning"
   ],
   "execution_count": 4,
   "outputs": [
    {
     "name": "stdout",
     "text": [
      "C:\\Users\\13129\\Source\\repos\\Sentiment-Analysis-using-Deep-Learning\n"
     ],
     "output_type": "stream"
    }
   ]
  },
  {
   "cell_type": "code",
   "metadata": {
    "id": "wHI89tLFOiSo",
    "colab_type": "code",
    "colab": {
     "base_uri": "https://localhost:8080/",
     "height": 35
    },
    "outputId": "289cdb7f-7f0d-423f-f1ca-c4a10bfb5f60"
   },
   "source": [
    "# list content of drive\n",
    "%ls"
   ],
   "execution_count": null,
   "outputs": []
  },
  {
   "cell_type": "code",
   "metadata": {
    "id": "GnYQE0p1PDxY",
    "colab_type": "code",
    "colab": {
     "base_uri": "https://localhost:8080/",
     "height": 74
    },
    "outputId": "249bd941-568c-4b5d-c11d-9a99464f96dd",
    "pycharm": {
     "is_executing": false
    }
   },
   "source": [
    "print(os.getcwd())\n",
    "# Save data into numpy binary files so we dont have to load it from a json file each time\n",
    "data = []\n",
    "with gzip.open('data/Electronics_5.json.gz') as f:\n",
    "    for l in f:\n",
    "        data.append(json.loads(l.strip()))\n",
    "    \n",
    "# total length of list, this number equals total number of products\n",
    "print(len(data))\n",
    "\n",
    "# first row of the list\n",
    "print(data[0])\n",
    "\n",
    "np.save('data/electronics_5.npy', data)\n",
    "print('saved')"
   ],
   "execution_count": null,
   "outputs": []
  },
  {
   "cell_type": "code",
   "execution_count": 6,
   "outputs": [
    {
     "name": "stdout",
     "text": [
      "6739590\n"
     ],
     "output_type": "stream"
    }
   ],
   "source": [
    "data = np.load('data/electronics_5.npy', allow_pickle=True)\n",
    "\n",
    "# total length of list, this number equals total number of products\n",
    "print(len(data))\n",
    "\n"
   ],
   "metadata": {
    "collapsed": false,
    "pycharm": {
     "name": "#%%\n",
     "is_executing": false
    }
   }
  }
 ]
}