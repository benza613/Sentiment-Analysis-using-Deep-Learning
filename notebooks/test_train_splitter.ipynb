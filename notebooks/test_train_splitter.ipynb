{
  "nbformat": 4,
  "nbformat_minor": 0,
  "metadata": {
    "kernelspec": {
      "name": "python3",
      "display_name": "Python 3"
    },
    "pycharm": {
      "stem_cell": {
        "cell_type": "raw",
        "source": [],
        "metadata": {
          "collapsed": false
        }
      }
    },
    "colab": {
      "name": "test_train_splitter.ipynb",
      "provenance": []
    }
  },
  "cells": [
    {
      "cell_type": "code",
      "metadata": {
        "id": "PJsI6rzDTw-k",
        "colab_type": "code",
        "colab": {}
      },
      "source": [
        "# Once we have cleaned data, we have approximately ~6.5Mil rows available.\n",
        "# for the accelerated small scale models we need to strip the data down to N number of rows\n",
        "\n",
        "# - Load Data from Processed csv filed into Dataframe\n",
        "# - Param n_r : Draw n_r number of rows per N class (in this case the classes are ratings)\n",
        "# - Param test_split_percentage : Specify a percentage of rows to be taken from drawn samples (eg. 5, 10, 30)\n",
        "# - We can filter the decision to choose first n_r rows per class by limiting to those rows that have length under 50th or 25th percentile\n",
        "# --> in essence pick smaller rows since there is ample class imbalance already\n",
        "\n",
        "# Last recorded distribution\n",
        "# 5.0-4.0    5,460,975\n",
        "# 3.0        504,781\n",
        "# 1.0-2.0    773,834\n",
        "\n",
        "# DO NOT EDIT/ DELETE THIS BLOCK;\n"
      ],
      "execution_count": 0,
      "outputs": []
    },
    {
      "cell_type": "code",
      "metadata": {
        "pycharm": {
          "name": "#%%\n"
        },
        "id": "0dilxz57Tw-t",
        "colab_type": "code",
        "colab": {
          "base_uri": "https://localhost:8080/",
          "height": 35
        },
        "outputId": "f54c99d9-c784-47fd-8d91-e2a1233e1515"
      },
      "source": [
        "from google.colab import drive\n",
        "drive.mount('/content/drive')\n"
      ],
      "execution_count": 23,
      "outputs": [
        {
          "output_type": "stream",
          "text": [
            "Drive already mounted at /content/drive; to attempt to forcibly remount, call drive.mount(\"/content/drive\", force_remount=True).\n"
          ],
          "name": "stdout"
        }
      ]
    },
    {
      "cell_type": "code",
      "metadata": {
        "pycharm": {
          "name": "#%%\n"
        },
        "id": "sMGvOlRETw-2",
        "colab_type": "code",
        "colab": {}
      },
      "source": [
        "# set working directory -> you must set the path into which you have uploaded the zipped file\n",
        "# this is required in the case of colab or local \n",
        "%cd /content/drive/My\\ Drive/SNLP\\ Project\n",
        "# %cd Source/repos/Sentiment-Analysis-using-Deep-Learning"
      ],
      "execution_count": 0,
      "outputs": []
    },
    {
      "cell_type": "code",
      "metadata": {
        "pycharm": {
          "name": "#%%\n"
        },
        "id": "fKcsC9ayTw-9",
        "colab_type": "code",
        "colab": {
          "base_uri": "https://localhost:8080/",
          "height": 72
        },
        "outputId": "5b990ee2-3a1b-459d-8be0-5b99a018ac98"
      },
      "source": [
        "# list content of drive - verify you are where you are supposed to be\n",
        "%ls"
      ],
      "execution_count": 25,
      "outputs": [
        {
          "output_type": "stream",
          "text": [
            " CleantData_Apr-03-2020_01-31.zip  'Project Ideas.gdoc'\n",
            " Electronics_5.json.gz             'Project Proposal.gdoc'\n",
            " electronics_5.npy                 \u001b[0m\u001b[01;34m'Report MetaData'\u001b[0m/\n"
          ],
          "name": "stdout"
        }
      ]
    },
    {
      "cell_type": "code",
      "metadata": {
        "pycharm": {
          "name": "#%%\n"
        },
        "id": "RXfKudMtTw_D",
        "colab_type": "code",
        "colab": {}
      },
      "source": [
        "import os\n",
        "import gzip\n",
        "import pandas as pd\n",
        "import numpy as np\n",
        "import matplotlib as mpl\n",
        "\n",
        "# Define Globals here \n",
        "ZipCSVFileName = 'abc.zip'\n",
        "N_R = 2000\n",
        "test_split_percentage = 10"
      ],
      "execution_count": 0,
      "outputs": []
    },
    {
      "cell_type": "code",
      "metadata": {
        "pycharm": {
          "name": "#%%\n"
        },
        "id": "3YKeZDXITw_J",
        "colab_type": "code",
        "colab": {
          "base_uri": "https://localhost:8080/",
          "height": 311
        },
        "outputId": "e59c54c5-b345-458d-a311-4ef9d392250f"
      },
      "source": [
        "#df = pd.read_csv(ZipCSVFileName)\n",
        "df.info()"
      ],
      "execution_count": 27,
      "outputs": [
        {
          "output_type": "stream",
          "text": [
            "<class 'pandas.core.frame.DataFrame'>\n",
            "RangeIndex: 6739590 entries, 0 to 6739589\n",
            "Data columns (total 9 columns):\n",
            " #   Column          Dtype  \n",
            "---  ------          -----  \n",
            " 0   overall         float64\n",
            " 1   reviewTime      object \n",
            " 2   reviewerID      object \n",
            " 3   asin            object \n",
            " 4   reviewText      object \n",
            " 5   summary         object \n",
            " 6   unixReviewTime  int64  \n",
            " 7   reviewText_len  int64  \n",
            " 8   summary_len     int64  \n",
            "dtypes: float64(1), int64(3), object(5)\n",
            "memory usage: 462.8+ MB\n"
          ],
          "name": "stdout"
        }
      ]
    },
    {
      "cell_type": "code",
      "metadata": {
        "pycharm": {
          "name": "#%%\n"
        },
        "id": "-Gvk_ZUgTw_O",
        "colab_type": "code",
        "colab": {
          "base_uri": "https://localhost:8080/",
          "height": 424
        },
        "outputId": "1aa5a311-dc83-48a7-931f-82743a156d5b"
      },
      "source": [
        "\n",
        "df_filtered = df.query('reviewText_len < 400 and summary_len < 35')\n",
        "df_filtered\n"
      ],
      "execution_count": 28,
      "outputs": [
        {
          "output_type": "execute_result",
          "data": {
            "text/html": [
              "<div>\n",
              "<style scoped>\n",
              "    .dataframe tbody tr th:only-of-type {\n",
              "        vertical-align: middle;\n",
              "    }\n",
              "\n",
              "    .dataframe tbody tr th {\n",
              "        vertical-align: top;\n",
              "    }\n",
              "\n",
              "    .dataframe thead th {\n",
              "        text-align: right;\n",
              "    }\n",
              "</style>\n",
              "<table border=\"1\" class=\"dataframe\">\n",
              "  <thead>\n",
              "    <tr style=\"text-align: right;\">\n",
              "      <th></th>\n",
              "      <th>overall</th>\n",
              "      <th>reviewTime</th>\n",
              "      <th>reviewerID</th>\n",
              "      <th>asin</th>\n",
              "      <th>reviewText</th>\n",
              "      <th>summary</th>\n",
              "      <th>unixReviewTime</th>\n",
              "      <th>reviewText_len</th>\n",
              "      <th>summary_len</th>\n",
              "    </tr>\n",
              "  </thead>\n",
              "  <tbody>\n",
              "    <tr>\n",
              "      <th>5</th>\n",
              "      <td>4.0</td>\n",
              "      <td>06 5, 2013</td>\n",
              "      <td>A3IYSOTP3HA77N</td>\n",
              "      <td>0380709473</td>\n",
              "      <td>i read this probabl 50 year ago in my youth an...</td>\n",
              "      <td>abov averag mysteri</td>\n",
              "      <td>1370390400</td>\n",
              "      <td>149</td>\n",
              "      <td>21</td>\n",
              "    </tr>\n",
              "    <tr>\n",
              "      <th>6</th>\n",
              "      <td>5.0</td>\n",
              "      <td>06 27, 2016</td>\n",
              "      <td>A11SXV34PZUQ5E</td>\n",
              "      <td>0380709473</td>\n",
              "      <td>i read everi perri mason book voraci find the ...</td>\n",
              "      <td>lam is cool</td>\n",
              "      <td>1466985600</td>\n",
              "      <td>182</td>\n",
              "      <td>12</td>\n",
              "    </tr>\n",
              "    <tr>\n",
              "      <th>7</th>\n",
              "      <td>5.0</td>\n",
              "      <td>07 30, 2015</td>\n",
              "      <td>A2AUQM1HT2D5T8</td>\n",
              "      <td>0380709473</td>\n",
              "      <td>i love this seri of bertha and lamb great novel</td>\n",
              "      <td>five star</td>\n",
              "      <td>1438214400</td>\n",
              "      <td>54</td>\n",
              "      <td>10</td>\n",
              "    </tr>\n",
              "    <tr>\n",
              "      <th>8</th>\n",
              "      <td>5.0</td>\n",
              "      <td>02 16, 2015</td>\n",
              "      <td>A3UD8JRWLX6SRX</td>\n",
              "      <td>0380709473</td>\n",
              "      <td>great read</td>\n",
              "      <td>five star</td>\n",
              "      <td>1424044800</td>\n",
              "      <td>11</td>\n",
              "      <td>10</td>\n",
              "    </tr>\n",
              "    <tr>\n",
              "      <th>17</th>\n",
              "      <td>5.0</td>\n",
              "      <td>05 31, 2017</td>\n",
              "      <td>A7362LXMQEM6W</td>\n",
              "      <td>0511189877</td>\n",
              "      <td>work out of the box with my cabl box in northe...</td>\n",
              "      <td>paid full price</td>\n",
              "      <td>1496188800</td>\n",
              "      <td>128</td>\n",
              "      <td>15</td>\n",
              "    </tr>\n",
              "    <tr>\n",
              "      <th>...</th>\n",
              "      <td>...</td>\n",
              "      <td>...</td>\n",
              "      <td>...</td>\n",
              "      <td>...</td>\n",
              "      <td>...</td>\n",
              "      <td>...</td>\n",
              "      <td>...</td>\n",
              "      <td>...</td>\n",
              "      <td>...</td>\n",
              "    </tr>\n",
              "    <tr>\n",
              "      <th>6739583</th>\n",
              "      <td>2.0</td>\n",
              "      <td>05 21, 2017</td>\n",
              "      <td>A12E1JGKV0ETAB</td>\n",
              "      <td>B01HJH42KU</td>\n",
              "      <td>i like the length and the product at first but...</td>\n",
              "      <td>lost abil to connect</td>\n",
              "      <td>1495324800</td>\n",
              "      <td>163</td>\n",
              "      <td>24</td>\n",
              "    </tr>\n",
              "    <tr>\n",
              "      <th>6739584</th>\n",
              "      <td>3.0</td>\n",
              "      <td>06 26, 2017</td>\n",
              "      <td>A1HKXEX8BEQC2E</td>\n",
              "      <td>B01HJH40WU</td>\n",
              "      <td>not hold up over time emo_neg</td>\n",
              "      <td>not hold up over time emo_neg</td>\n",
              "      <td>1498435200</td>\n",
              "      <td>27</td>\n",
              "      <td>27</td>\n",
              "    </tr>\n",
              "    <tr>\n",
              "      <th>6739585</th>\n",
              "      <td>4.0</td>\n",
              "      <td>03 21, 2017</td>\n",
              "      <td>A33MAQA919J2V8</td>\n",
              "      <td>B01HJH40WU</td>\n",
              "      <td>these seem like qualiti usb cabl time will tell</td>\n",
              "      <td>four star</td>\n",
              "      <td>1490054400</td>\n",
              "      <td>50</td>\n",
              "      <td>10</td>\n",
              "    </tr>\n",
              "    <tr>\n",
              "      <th>6739586</th>\n",
              "      <td>4.0</td>\n",
              "      <td>01 9, 2017</td>\n",
              "      <td>A1AKHSCPD1BHM4</td>\n",
              "      <td>B01HJH40WU</td>\n",
              "      <td>work great love the longer cord as with ani co...</td>\n",
              "      <td>nice long cord</td>\n",
              "      <td>1483920000</td>\n",
              "      <td>152</td>\n",
              "      <td>14</td>\n",
              "    </tr>\n",
              "    <tr>\n",
              "      <th>6739588</th>\n",
              "      <td>5.0</td>\n",
              "      <td>11 29, 2016</td>\n",
              "      <td>AJJ7VX2L91X2W</td>\n",
              "      <td>B01HJH40WU</td>\n",
              "      <td>work well</td>\n",
              "      <td>five star</td>\n",
              "      <td>1480377600</td>\n",
              "      <td>11</td>\n",
              "      <td>10</td>\n",
              "    </tr>\n",
              "  </tbody>\n",
              "</table>\n",
              "<p>4125423 rows × 9 columns</p>\n",
              "</div>"
            ],
            "text/plain": [
              "         overall   reviewTime  ... reviewText_len summary_len\n",
              "5            4.0   06 5, 2013  ...            149          21\n",
              "6            5.0  06 27, 2016  ...            182          12\n",
              "7            5.0  07 30, 2015  ...             54          10\n",
              "8            5.0  02 16, 2015  ...             11          10\n",
              "17           5.0  05 31, 2017  ...            128          15\n",
              "...          ...          ...  ...            ...         ...\n",
              "6739583      2.0  05 21, 2017  ...            163          24\n",
              "6739584      3.0  06 26, 2017  ...             27          27\n",
              "6739585      4.0  03 21, 2017  ...             50          10\n",
              "6739586      4.0   01 9, 2017  ...            152          14\n",
              "6739588      5.0  11 29, 2016  ...             11          10\n",
              "\n",
              "[4125423 rows x 9 columns]"
            ]
          },
          "metadata": {
            "tags": []
          },
          "execution_count": 28
        }
      ]
    },
    {
      "cell_type": "code",
      "metadata": {
        "id": "ItoqPWcDUge5",
        "colab_type": "code",
        "colab": {
          "base_uri": "https://localhost:8080/",
          "height": 182
        },
        "outputId": "4db733a2-5506-419c-cf3d-fff7f9243102"
      },
      "source": [
        "df_filtered['reviewText_len'].describe().apply(\"{0:.3f}\".format)"
      ],
      "execution_count": 29,
      "outputs": [
        {
          "output_type": "execute_result",
          "data": {
            "text/plain": [
              "count    4125423.000\n",
              "mean         113.604\n",
              "std          101.532\n",
              "min            1.000\n",
              "25%           30.000\n",
              "50%           82.000\n",
              "75%          172.000\n",
              "max          399.000\n",
              "Name: reviewText_len, dtype: object"
            ]
          },
          "metadata": {
            "tags": []
          },
          "execution_count": 29
        }
      ]
    },
    {
      "cell_type": "code",
      "metadata": {
        "id": "SlRUeQnlUid3",
        "colab_type": "code",
        "colab": {
          "base_uri": "https://localhost:8080/",
          "height": 182
        },
        "outputId": "bbc2b783-b00a-4f1f-99d6-dd1118147597"
      },
      "source": [
        "df_filtered['summary_len'].describe().apply(\"{0:.3f}\".format)"
      ],
      "execution_count": 30,
      "outputs": [
        {
          "output_type": "execute_result",
          "data": {
            "text/plain": [
              "count    4125423.000\n",
              "mean          14.840\n",
              "std            7.391\n",
              "min            1.000\n",
              "25%           10.000\n",
              "50%           11.000\n",
              "75%           19.000\n",
              "max           34.000\n",
              "Name: summary_len, dtype: object"
            ]
          },
          "metadata": {
            "tags": []
          },
          "execution_count": 30
        }
      ]
    },
    {
      "cell_type": "code",
      "metadata": {
        "id": "ZCDSoayfUsB4",
        "colab_type": "code",
        "colab": {
          "base_uri": "https://localhost:8080/"
        },
        "outputId": "2af5d51b-4d16-4bed-9e01-61805a97cf43"
      },
      "source": [
        "df_filtered.boxplot(column=['summary_len'])"
      ],
      "execution_count": 31,
      "outputs": [
        {
          "output_type": "execute_result",
          "data": {
            "text/plain": [
              "<matplotlib.axes._subplots.AxesSubplot at 0x7fb87633b1d0>"
            ]
          },
          "metadata": {
            "tags": []
          },
          "execution_count": 31
        },
        {
          "output_type": "display_data",
          "data": {
            "image/png": "[encoded data removed]",
            "text/plain": [
              "<Figure size 432x288 with 1 Axes>"
            ]
          },
          "metadata": {
            "tags": []
          }
        }
      ]
    }
  ]
}