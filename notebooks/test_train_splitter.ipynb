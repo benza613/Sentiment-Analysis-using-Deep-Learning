{
 "cells": [
  {
   "cell_type": "code",
   "execution_count": null,
   "metadata": {
    "collapsed": true
   },
   "outputs": [],
   "source": [
    "# Once we have cleaned data, we have approximately ~6.5Mil rows available.\n",
    "# for the accelerated small scale models we need to strip the data down to N number of rows\n",
    "\n",
    "# - Load Data from Processed csv filed into Dataframe\n",
    "# - Param n_r : Draw n_r number of rows per N class (in this case the classes are ratings)\n",
    "# - Param test_split_percentage : Specify a percentage of rows to be taken from drawn samples (eg. 5, 10, 30)\n",
    "# - We can filter the decision to choose first n_r rows per class by limiting to those rows that have length under 50th or 25th percentile\n",
    "# --> in essence pick smaller rows since there is ample class imbalance already\n",
    "\n",
    "# Last recorded distribution\n",
    "# 5.0-4.0    5,460,975\n",
    "# 3.0        504,781\n",
    "# 1.0-2.0    773,834\n",
    "\n",
    "# DO NOT EDIT/ DELETE THIS BLOCK;\n"
   ]
  },
  {
   "cell_type": "code",
   "execution_count": null,
   "outputs": [],
   "source": [
    "from google.colab import drive\n",
    "drive.mount('/content/drive')\n"
   ],
   "metadata": {
    "collapsed": false,
    "pycharm": {
     "name": "#%%\n"
    }
   }
  },
  {
   "cell_type": "code",
   "execution_count": null,
   "outputs": [],
   "source": [
    "# set working directory -> you must set the path into which you have uploaded the zipped file\n",
    "# this is required in the case of colab or local \n",
    "%cd /content/drive/My\\ Drive/SNLP\\ Project\n",
    "# %cd Source/repos/Sentiment-Analysis-using-Deep-Learning"
   ],
   "metadata": {
    "collapsed": false,
    "pycharm": {
     "name": "#%%\n"
    }
   }
  },
  {
   "cell_type": "code",
   "execution_count": null,
   "outputs": [],
   "source": [
    "# list content of drive - verify you are where you are supposed to be\n",
    "%ls"
   ],
   "metadata": {
    "collapsed": false,
    "pycharm": {
     "name": "#%%\n"
    }
   }
  },
  {
   "cell_type": "code",
   "execution_count": null,
   "outputs": [],
   "source": [
    "import os\n",
    "import gzip\n",
    "import pandas as pd\n",
    "import numpy as np\n",
    "import matplotlib as mpl\n",
    "\n",
    "# Define Globals here \n",
    "ZipCSVFileName = 'abc.zip'\n",
    "N_R = 2000\n",
    "test_split_percentage = 10"
   ],
   "metadata": {
    "collapsed": false,
    "pycharm": {
     "name": "#%%\n"
    }
   }
  },
  {
   "cell_type": "code",
   "execution_count": null,
   "outputs": [],
   "source": [
    "df = pd.read_csv(ZipCSVFileName)\n",
    "df.info()"
   ],
   "metadata": {
    "collapsed": false,
    "pycharm": {
     "name": "#%%\n"
    }
   }
  },
  {
   "cell_type": "code",
   "execution_count": null,
   "outputs": [],
   "source": [
    "\n",
    "\n"
   ],
   "metadata": {
    "collapsed": false,
    "pycharm": {
     "name": "#%%\n"
    }
   }
  }
 ],
 "metadata": {
  "kernelspec": {
   "display_name": "iml_env",
   "language": "python",
   "name": "iml_env"
  },
  "language_info": {
   "codemirror_mode": {
    "name": "ipython",
    "version": 2
   },
   "file_extension": ".py",
   "mimetype": "text/x-python",
   "name": "python",
   "nbconvert_exporter": "python",
   "pygments_lexer": "ipython2",
   "version": "2.7.6"
  },
  "pycharm": {
   "stem_cell": {
    "cell_type": "raw",
    "source": [],
    "metadata": {
     "collapsed": false
    }
   }
  }
 },
 "nbformat": 4,
 "nbformat_minor": 0
}