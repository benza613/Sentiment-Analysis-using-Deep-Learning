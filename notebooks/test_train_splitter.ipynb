{
  "nbformat": 4,
  "nbformat_minor": 0,
  "metadata": {
    "kernelspec": {
      "name": "python3",
      "display_name": "Python 3"
    },
    "pycharm": {
      "stem_cell": {
        "cell_type": "raw",
        "source": [],
        "metadata": {
          "collapsed": false
        }
      }
    },
    "colab": {
      "name": "test_train_splitter.ipynb",
      "provenance": [],
      "toc_visible": true
    }
  },
  "cells": [
    {
      "cell_type": "code",
      "metadata": {
        "id": "PJsI6rzDTw-k",
        "colab_type": "code",
        "colab": {}
      },
      "source": [
        "# Once we have cleaned data, we have approximately ~6.5Mil rows available.\n",
        "# for the accelerated small scale models we need to strip the data down to N number of rows\n",
        "\n",
        "# - Load Data from Processed csv filed into Dataframe\n",
        "# - Param n_r : Draw n_r number of rows per N class (in this case the classes are ratings)\n",
        "# - Param test_split_percentage : Specify a percentage of rows to be taken from drawn samples (eg. 5, 10, 30)\n",
        "# - We can filter the decision to choose first n_r rows per class by limiting to those rows that have length under 50th or 25th percentile\n",
        "# --> in essence pick smaller rows since there is ample class imbalance already\n",
        "\n",
        "# Last recorded distribution\n",
        "# 5.0-4.0    5,460,975\n",
        "# 3.0        504,781\n",
        "# 1.0-2.0    773,834\n",
        "\n",
        "# DO NOT EDIT/ DELETE THIS BLOCK;\n"
      ],
      "execution_count": 0,
      "outputs": []
    },
    {
      "cell_type": "code",
      "metadata": {
        "pycharm": {
          "name": "#%%\n"
        },
        "id": "0dilxz57Tw-t",
        "colab_type": "code",
        "outputId": "9afce3a7-ebb7-4320-f84e-4c52fd55b3bc",
        "colab": {
          "base_uri": "https://localhost:8080/",
          "height": 129
        }
      },
      "source": [
        "from google.colab import drive\n",
        "drive.mount('/content/drive')\n"
      ],
      "execution_count": 1,
      "outputs": [
        {
          "output_type": "stream",
          "text": [
            "Go to this URL in a browser: https://accounts.google.com/o/oauth2/auth?client_id=947318989803-6bn6qk8qdgf4n4g3pfee6491hc0brc4i.apps.googleusercontent.com&redirect_uri=urn%3aietf%3awg%3aoauth%3a2.0%3aoob&response_type=code&scope=email%20https%3a%2f%2fwww.googleapis.com%2fauth%2fdocs.test%20https%3a%2f%2fwww.googleapis.com%2fauth%2fdrive%20https%3a%2f%2fwww.googleapis.com%2fauth%2fdrive.photos.readonly%20https%3a%2f%2fwww.googleapis.com%2fauth%2fpeopleapi.readonly\n",
            "\n",
            "Enter your authorization code:\n",
            "··········\n",
            "Mounted at /content/drive\n"
          ],
          "name": "stdout"
        }
      ]
    },
    {
      "cell_type": "code",
      "metadata": {
        "pycharm": {
          "name": "#%%\n"
        },
        "id": "sMGvOlRETw-2",
        "colab_type": "code",
        "colab": {
          "base_uri": "https://localhost:8080/",
          "height": 35
        },
        "outputId": "5a05d286-8d53-47d0-ca7f-9f70453972c2"
      },
      "source": [
        "# set working directory -> you must set the path into which you have uploaded the zipped file\n",
        "# this is required in the case of colab or local \n",
        "%cd /content/drive/My\\ Drive/SNLP\\ Project\n",
        "# %cd Source/repos/Sentiment-Analysis-using-Deep-Learning"
      ],
      "execution_count": 2,
      "outputs": [
        {
          "output_type": "stream",
          "text": [
            "/content/drive/My Drive/SNLP Project\n"
          ],
          "name": "stdout"
        }
      ]
    },
    {
      "cell_type": "code",
      "metadata": {
        "pycharm": {
          "name": "#%%\n"
        },
        "id": "fKcsC9ayTw-9",
        "colab_type": "code",
        "outputId": "a137b760-0bdd-431e-a55c-799763638a37",
        "colab": {
          "base_uri": "https://localhost:8080/",
          "height": 109
        }
      },
      "source": [
        "# list content of drive - verify you are where you are supposed to be\n",
        "%ls"
      ],
      "execution_count": 3,
      "outputs": [
        {
          "output_type": "stream",
          "text": [
            " CleantData_Apr-03-2020_01-31.zip         \u001b[0m\u001b[01;34mModelResults\u001b[0m/\n",
            " \u001b[01;34mData_Balanced_20000_Apr-03-2020_06-52\u001b[0m/  'Project Ideas.gdoc'\n",
            " \u001b[01;34mData_Balanced_2000_Apr-03-2020_06-46\u001b[0m/   'Project Proposal.gdoc'\n",
            " Electronics_5.json.gz                   \u001b[01;34m'Report MetaData'\u001b[0m/\n",
            " \u001b[01;34mLexical_analysis\u001b[0m/\n"
          ],
          "name": "stdout"
        }
      ]
    },
    {
      "cell_type": "code",
      "metadata": {
        "pycharm": {
          "name": "#%%\n"
        },
        "id": "RXfKudMtTw_D",
        "colab_type": "code",
        "colab": {}
      },
      "source": [
        "import os\n",
        "import gzip\n",
        "import pandas as pd\n",
        "import numpy as np\n",
        "import matplotlib as mpl\n",
        "import random\n",
        "\n",
        "# Define Globals here \n",
        "ZipCSVFileName = 'CleantData_Apr-03-2020_01-31.zip'\n",
        "N_R = 100000\n",
        "test_split_percentage = 10"
      ],
      "execution_count": 0,
      "outputs": []
    },
    {
      "cell_type": "code",
      "metadata": {
        "pycharm": {
          "name": "#%%\n"
        },
        "id": "3YKeZDXITw_J",
        "colab_type": "code",
        "outputId": "52de454d-6c58-4c97-9de7-14d408179b78",
        "colab": {
          "base_uri": "https://localhost:8080/",
          "height": 311
        }
      },
      "source": [
        "df = pd.read_csv(ZipCSVFileName)\n",
        "df.info()"
      ],
      "execution_count": 7,
      "outputs": [
        {
          "output_type": "stream",
          "text": [
            "<class 'pandas.core.frame.DataFrame'>\n",
            "RangeIndex: 6739590 entries, 0 to 6739589\n",
            "Data columns (total 9 columns):\n",
            " #   Column          Dtype  \n",
            "---  ------          -----  \n",
            " 0   overall         float64\n",
            " 1   reviewTime      object \n",
            " 2   reviewerID      object \n",
            " 3   asin            object \n",
            " 4   reviewText      object \n",
            " 5   summary         object \n",
            " 6   unixReviewTime  int64  \n",
            " 7   reviewText_len  int64  \n",
            " 8   summary_len     int64  \n",
            "dtypes: float64(1), int64(3), object(5)\n",
            "memory usage: 462.8+ MB\n"
          ],
          "name": "stdout"
        }
      ]
    },
    {
      "cell_type": "code",
      "metadata": {
        "pycharm": {
          "name": "#%%\n"
        },
        "id": "-Gvk_ZUgTw_O",
        "colab_type": "code",
        "outputId": "1f726706-2439-4ae2-d803-9a5704c9b500",
        "colab": {
          "base_uri": "https://localhost:8080/",
          "height": 424
        }
      },
      "source": [
        "\n",
        "df_filtered = df.query('reviewText_len < 400 and summary_len < 35')\n",
        "df_filtered = df_filtered.dropna()\n",
        "df_filtered\n"
      ],
      "execution_count": 8,
      "outputs": [
        {
          "output_type": "execute_result",
          "data": {
            "text/html": [
              "<div>\n",
              "<style scoped>\n",
              "    .dataframe tbody tr th:only-of-type {\n",
              "        vertical-align: middle;\n",
              "    }\n",
              "\n",
              "    .dataframe tbody tr th {\n",
              "        vertical-align: top;\n",
              "    }\n",
              "\n",
              "    .dataframe thead th {\n",
              "        text-align: right;\n",
              "    }\n",
              "</style>\n",
              "<table border=\"1\" class=\"dataframe\">\n",
              "  <thead>\n",
              "    <tr style=\"text-align: right;\">\n",
              "      <th></th>\n",
              "      <th>overall</th>\n",
              "      <th>reviewTime</th>\n",
              "      <th>reviewerID</th>\n",
              "      <th>asin</th>\n",
              "      <th>reviewText</th>\n",
              "      <th>summary</th>\n",
              "      <th>unixReviewTime</th>\n",
              "      <th>reviewText_len</th>\n",
              "      <th>summary_len</th>\n",
              "    </tr>\n",
              "  </thead>\n",
              "  <tbody>\n",
              "    <tr>\n",
              "      <th>5</th>\n",
              "      <td>4.0</td>\n",
              "      <td>06 5, 2013</td>\n",
              "      <td>A3IYSOTP3HA77N</td>\n",
              "      <td>0380709473</td>\n",
              "      <td>i read this probabl 50 year ago in my youth an...</td>\n",
              "      <td>abov averag mysteri</td>\n",
              "      <td>1370390400</td>\n",
              "      <td>149</td>\n",
              "      <td>21</td>\n",
              "    </tr>\n",
              "    <tr>\n",
              "      <th>6</th>\n",
              "      <td>5.0</td>\n",
              "      <td>06 27, 2016</td>\n",
              "      <td>A11SXV34PZUQ5E</td>\n",
              "      <td>0380709473</td>\n",
              "      <td>i read everi perri mason book voraci find the ...</td>\n",
              "      <td>lam is cool</td>\n",
              "      <td>1466985600</td>\n",
              "      <td>182</td>\n",
              "      <td>12</td>\n",
              "    </tr>\n",
              "    <tr>\n",
              "      <th>7</th>\n",
              "      <td>5.0</td>\n",
              "      <td>07 30, 2015</td>\n",
              "      <td>A2AUQM1HT2D5T8</td>\n",
              "      <td>0380709473</td>\n",
              "      <td>i love this seri of bertha and lamb great novel</td>\n",
              "      <td>five star</td>\n",
              "      <td>1438214400</td>\n",
              "      <td>54</td>\n",
              "      <td>10</td>\n",
              "    </tr>\n",
              "    <tr>\n",
              "      <th>8</th>\n",
              "      <td>5.0</td>\n",
              "      <td>02 16, 2015</td>\n",
              "      <td>A3UD8JRWLX6SRX</td>\n",
              "      <td>0380709473</td>\n",
              "      <td>great read</td>\n",
              "      <td>five star</td>\n",
              "      <td>1424044800</td>\n",
              "      <td>11</td>\n",
              "      <td>10</td>\n",
              "    </tr>\n",
              "    <tr>\n",
              "      <th>17</th>\n",
              "      <td>5.0</td>\n",
              "      <td>05 31, 2017</td>\n",
              "      <td>A7362LXMQEM6W</td>\n",
              "      <td>0511189877</td>\n",
              "      <td>work out of the box with my cabl box in northe...</td>\n",
              "      <td>paid full price</td>\n",
              "      <td>1496188800</td>\n",
              "      <td>128</td>\n",
              "      <td>15</td>\n",
              "    </tr>\n",
              "    <tr>\n",
              "      <th>...</th>\n",
              "      <td>...</td>\n",
              "      <td>...</td>\n",
              "      <td>...</td>\n",
              "      <td>...</td>\n",
              "      <td>...</td>\n",
              "      <td>...</td>\n",
              "      <td>...</td>\n",
              "      <td>...</td>\n",
              "      <td>...</td>\n",
              "    </tr>\n",
              "    <tr>\n",
              "      <th>6739583</th>\n",
              "      <td>2.0</td>\n",
              "      <td>05 21, 2017</td>\n",
              "      <td>A12E1JGKV0ETAB</td>\n",
              "      <td>B01HJH42KU</td>\n",
              "      <td>i like the length and the product at first but...</td>\n",
              "      <td>lost abil to connect</td>\n",
              "      <td>1495324800</td>\n",
              "      <td>163</td>\n",
              "      <td>24</td>\n",
              "    </tr>\n",
              "    <tr>\n",
              "      <th>6739584</th>\n",
              "      <td>3.0</td>\n",
              "      <td>06 26, 2017</td>\n",
              "      <td>A1HKXEX8BEQC2E</td>\n",
              "      <td>B01HJH40WU</td>\n",
              "      <td>not hold up over time emo_neg</td>\n",
              "      <td>not hold up over time emo_neg</td>\n",
              "      <td>1498435200</td>\n",
              "      <td>27</td>\n",
              "      <td>27</td>\n",
              "    </tr>\n",
              "    <tr>\n",
              "      <th>6739585</th>\n",
              "      <td>4.0</td>\n",
              "      <td>03 21, 2017</td>\n",
              "      <td>A33MAQA919J2V8</td>\n",
              "      <td>B01HJH40WU</td>\n",
              "      <td>these seem like qualiti usb cabl time will tell</td>\n",
              "      <td>four star</td>\n",
              "      <td>1490054400</td>\n",
              "      <td>50</td>\n",
              "      <td>10</td>\n",
              "    </tr>\n",
              "    <tr>\n",
              "      <th>6739586</th>\n",
              "      <td>4.0</td>\n",
              "      <td>01 9, 2017</td>\n",
              "      <td>A1AKHSCPD1BHM4</td>\n",
              "      <td>B01HJH40WU</td>\n",
              "      <td>work great love the longer cord as with ani co...</td>\n",
              "      <td>nice long cord</td>\n",
              "      <td>1483920000</td>\n",
              "      <td>152</td>\n",
              "      <td>14</td>\n",
              "    </tr>\n",
              "    <tr>\n",
              "      <th>6739588</th>\n",
              "      <td>5.0</td>\n",
              "      <td>11 29, 2016</td>\n",
              "      <td>AJJ7VX2L91X2W</td>\n",
              "      <td>B01HJH40WU</td>\n",
              "      <td>work well</td>\n",
              "      <td>five star</td>\n",
              "      <td>1480377600</td>\n",
              "      <td>11</td>\n",
              "      <td>10</td>\n",
              "    </tr>\n",
              "  </tbody>\n",
              "</table>\n",
              "<p>4122759 rows × 9 columns</p>\n",
              "</div>"
            ],
            "text/plain": [
              "         overall   reviewTime  ... reviewText_len summary_len\n",
              "5            4.0   06 5, 2013  ...            149          21\n",
              "6            5.0  06 27, 2016  ...            182          12\n",
              "7            5.0  07 30, 2015  ...             54          10\n",
              "8            5.0  02 16, 2015  ...             11          10\n",
              "17           5.0  05 31, 2017  ...            128          15\n",
              "...          ...          ...  ...            ...         ...\n",
              "6739583      2.0  05 21, 2017  ...            163          24\n",
              "6739584      3.0  06 26, 2017  ...             27          27\n",
              "6739585      4.0  03 21, 2017  ...             50          10\n",
              "6739586      4.0   01 9, 2017  ...            152          14\n",
              "6739588      5.0  11 29, 2016  ...             11          10\n",
              "\n",
              "[4122759 rows x 9 columns]"
            ]
          },
          "metadata": {
            "tags": []
          },
          "execution_count": 8
        }
      ]
    },
    {
      "cell_type": "code",
      "metadata": {
        "id": "ItoqPWcDUge5",
        "colab_type": "code",
        "outputId": "4c3497f5-7654-4865-ca0a-d8ee3f19a57d",
        "colab": {
          "base_uri": "https://localhost:8080/",
          "height": 182
        }
      },
      "source": [
        "df_filtered['reviewText_len'].describe().apply(\"{0:.3f}\".format)"
      ],
      "execution_count": 9,
      "outputs": [
        {
          "output_type": "execute_result",
          "data": {
            "text/plain": [
              "count    4122759.000\n",
              "mean         113.646\n",
              "std          101.532\n",
              "min            1.000\n",
              "25%           30.000\n",
              "50%           83.000\n",
              "75%          172.000\n",
              "max          399.000\n",
              "Name: reviewText_len, dtype: object"
            ]
          },
          "metadata": {
            "tags": []
          },
          "execution_count": 9
        }
      ]
    },
    {
      "cell_type": "code",
      "metadata": {
        "id": "SlRUeQnlUid3",
        "colab_type": "code",
        "outputId": "4f20e7cb-aa46-4cda-8258-3931f7f888f2",
        "colab": {
          "base_uri": "https://localhost:8080/",
          "height": 182
        }
      },
      "source": [
        "df_filtered['summary_len'].describe().apply(\"{0:.3f}\".format)"
      ],
      "execution_count": 10,
      "outputs": [
        {
          "output_type": "execute_result",
          "data": {
            "text/plain": [
              "count    4122759.000\n",
              "mean          14.845\n",
              "std            7.390\n",
              "min            1.000\n",
              "25%           10.000\n",
              "50%           11.000\n",
              "75%           19.000\n",
              "max           34.000\n",
              "Name: summary_len, dtype: object"
            ]
          },
          "metadata": {
            "tags": []
          },
          "execution_count": 10
        }
      ]
    },
    {
      "cell_type": "code",
      "metadata": {
        "id": "ZCDSoayfUsB4",
        "colab_type": "code",
        "outputId": "f498749d-5d93-4417-9bb5-e3e0f4a2b35b",
        "colab": {
          "base_uri": "https://localhost:8080/",
          "height": 284
        }
      },
      "source": [
        "df_filtered.boxplot(column=['summary_len'])"
      ],
      "execution_count": 11,
      "outputs": [
        {
          "output_type": "execute_result",
          "data": {
            "text/plain": [
              "<matplotlib.axes._subplots.AxesSubplot at 0x7fb1faf7f7b8>"
            ]
          },
          "metadata": {
            "tags": []
          },
          "execution_count": 11
        },
        {
          "output_type": "display_data",
          "data": {
            "image/png": "[encoded data removed]",
            "text/plain": [
              "<Figure size 432x288 with 1 Axes>"
            ]
          },
          "metadata": {
            "tags": []
          }
        }
      ]
    },
    {
      "cell_type": "code",
      "metadata": {
        "id": "l46XhXZuVhEg",
        "colab_type": "code",
        "outputId": "baf5d1f7-757d-41ba-93c2-3560d95f62ac",
        "colab": {
          "base_uri": "https://localhost:8080/",
          "height": 284
        }
      },
      "source": [
        "df_filtered.boxplot(column=['reviewText_len'])"
      ],
      "execution_count": 12,
      "outputs": [
        {
          "output_type": "execute_result",
          "data": {
            "text/plain": [
              "<matplotlib.axes._subplots.AxesSubplot at 0x7fb1faf04b70>"
            ]
          },
          "metadata": {
            "tags": []
          },
          "execution_count": 12
        },
        {
          "output_type": "display_data",
          "data": {
            "image/png": "[encoded data removed]",
            "text/plain": [
              "<Figure size 432x288 with 1 Axes>"
            ]
          },
          "metadata": {
            "tags": []
          }
        }
      ]
    },
    {
      "cell_type": "code",
      "metadata": {
        "id": "cto4CsXvjWQk",
        "colab_type": "code",
        "outputId": "ca90d9a8-e758-4e69-8b31-39dbb54caacb",
        "colab": {
          "base_uri": "https://localhost:8080/",
          "height": 109
        }
      },
      "source": [
        "df_result_train = pd.DataFrame(columns=['overall','reviewTime','reviewerID','asin','reviewText','summary','unixReviewTime','reviewText_len','summary_len'])\n",
        "df_result_test = pd.DataFrame(columns=['overall','reviewTime','reviewerID','asin','reviewText','summary','unixReviewTime','reviewText_len','summary_len'])\n",
        "\n",
        "np.random.seed(random.randint(12312, 182123))\n",
        "\n",
        "# write code to create fragmented datasets for each class \n",
        "for i in [1,2,3,4,5]:\n",
        "\n",
        "  # get elements of that class\n",
        "  df_temp = df_filtered.query('overall == '+str(i))\n",
        "\n",
        "  # get the partition 80%-20%, then keep N_R rows from 80% and N_R/10 from 20%\n",
        "  msk = np.random.rand(len(df_temp)) < 0.8\n",
        "\n",
        "  df_temp_train = df_temp[msk]\n",
        "  df_temp_test = df_temp[~msk]\n",
        "\n",
        "  # slice rows to append to result set \n",
        "  df_temp_train = df_temp_train.head(N_R)\n",
        "  df_temp_test = df_temp_test.tail(N_R//10)\n",
        "\n",
        "  df_result_train = df_result_train.append(df_temp_train, ignore_index = True)\n",
        "  df_result_test = df_result_test.append(df_temp_test, ignore_index = True)\n",
        "\n",
        "  print(i)\n",
        "\n"
      ],
      "execution_count": 13,
      "outputs": [
        {
          "output_type": "stream",
          "text": [
            "1\n",
            "2\n",
            "3\n",
            "4\n",
            "5\n"
          ],
          "name": "stdout"
        }
      ]
    },
    {
      "cell_type": "code",
      "metadata": {
        "id": "mon-x6g4qy40",
        "colab_type": "code",
        "outputId": "076be796-dd34-41c9-e28a-0e52da3a2a94",
        "colab": {
          "base_uri": "https://localhost:8080/",
          "height": 421
        }
      },
      "source": [
        "df_result_train.info()\n",
        "df_result_train['overall'].value_counts()"
      ],
      "execution_count": 14,
      "outputs": [
        {
          "output_type": "stream",
          "text": [
            "<class 'pandas.core.frame.DataFrame'>\n",
            "RangeIndex: 500000 entries, 0 to 499999\n",
            "Data columns (total 9 columns):\n",
            " #   Column          Non-Null Count   Dtype  \n",
            "---  ------          --------------   -----  \n",
            " 0   overall         500000 non-null  float64\n",
            " 1   reviewTime      500000 non-null  object \n",
            " 2   reviewerID      500000 non-null  object \n",
            " 3   asin            500000 non-null  object \n",
            " 4   reviewText      500000 non-null  object \n",
            " 5   summary         500000 non-null  object \n",
            " 6   unixReviewTime  500000 non-null  object \n",
            " 7   reviewText_len  500000 non-null  object \n",
            " 8   summary_len     500000 non-null  object \n",
            "dtypes: float64(1), object(8)\n",
            "memory usage: 34.3+ MB\n"
          ],
          "name": "stdout"
        },
        {
          "output_type": "execute_result",
          "data": {
            "text/plain": [
              "3.0    100000\n",
              "5.0    100000\n",
              "4.0    100000\n",
              "2.0    100000\n",
              "1.0    100000\n",
              "Name: overall, dtype: int64"
            ]
          },
          "metadata": {
            "tags": []
          },
          "execution_count": 14
        }
      ]
    },
    {
      "cell_type": "code",
      "metadata": {
        "id": "w1_9Q545q1w7",
        "colab_type": "code",
        "outputId": "d290944c-bb93-4882-df85-d840fecf0915",
        "colab": {
          "base_uri": "https://localhost:8080/",
          "height": 421
        }
      },
      "source": [
        "df_result_test.info()\n",
        "df_result_test['overall'].value_counts()"
      ],
      "execution_count": 15,
      "outputs": [
        {
          "output_type": "stream",
          "text": [
            "<class 'pandas.core.frame.DataFrame'>\n",
            "RangeIndex: 50000 entries, 0 to 49999\n",
            "Data columns (total 9 columns):\n",
            " #   Column          Non-Null Count  Dtype  \n",
            "---  ------          --------------  -----  \n",
            " 0   overall         50000 non-null  float64\n",
            " 1   reviewTime      50000 non-null  object \n",
            " 2   reviewerID      50000 non-null  object \n",
            " 3   asin            50000 non-null  object \n",
            " 4   reviewText      50000 non-null  object \n",
            " 5   summary         50000 non-null  object \n",
            " 6   unixReviewTime  50000 non-null  object \n",
            " 7   reviewText_len  50000 non-null  object \n",
            " 8   summary_len     50000 non-null  object \n",
            "dtypes: float64(1), object(8)\n",
            "memory usage: 3.4+ MB\n"
          ],
          "name": "stdout"
        },
        {
          "output_type": "execute_result",
          "data": {
            "text/plain": [
              "3.0    10000\n",
              "5.0    10000\n",
              "4.0    10000\n",
              "2.0    10000\n",
              "1.0    10000\n",
              "Name: overall, dtype: int64"
            ]
          },
          "metadata": {
            "tags": []
          },
          "execution_count": 15
        }
      ]
    },
    {
      "cell_type": "code",
      "metadata": {
        "id": "s2sLKPL9tWoT",
        "colab_type": "code",
        "outputId": "257c138f-f1f4-4ae8-b207-d5659f5bea1f",
        "colab": {
          "base_uri": "https://localhost:8080/",
          "height": 49
        }
      },
      "source": [
        "# test if any empty Summaries\n",
        "\n",
        "bool2 = pd.isnull(df_result_test['summary'])\n",
        "df_result_test[bool2]"
      ],
      "execution_count": 16,
      "outputs": [
        {
          "output_type": "execute_result",
          "data": {
            "text/html": [
              "<div>\n",
              "<style scoped>\n",
              "    .dataframe tbody tr th:only-of-type {\n",
              "        vertical-align: middle;\n",
              "    }\n",
              "\n",
              "    .dataframe tbody tr th {\n",
              "        vertical-align: top;\n",
              "    }\n",
              "\n",
              "    .dataframe thead th {\n",
              "        text-align: right;\n",
              "    }\n",
              "</style>\n",
              "<table border=\"1\" class=\"dataframe\">\n",
              "  <thead>\n",
              "    <tr style=\"text-align: right;\">\n",
              "      <th></th>\n",
              "      <th>overall</th>\n",
              "      <th>reviewTime</th>\n",
              "      <th>reviewerID</th>\n",
              "      <th>asin</th>\n",
              "      <th>reviewText</th>\n",
              "      <th>summary</th>\n",
              "      <th>unixReviewTime</th>\n",
              "      <th>reviewText_len</th>\n",
              "      <th>summary_len</th>\n",
              "    </tr>\n",
              "  </thead>\n",
              "  <tbody>\n",
              "  </tbody>\n",
              "</table>\n",
              "</div>"
            ],
            "text/plain": [
              "Empty DataFrame\n",
              "Columns: [overall, reviewTime, reviewerID, asin, reviewText, summary, unixReviewTime, reviewText_len, summary_len]\n",
              "Index: []"
            ]
          },
          "metadata": {
            "tags": []
          },
          "execution_count": 16
        }
      ]
    },
    {
      "cell_type": "code",
      "metadata": {
        "id": "MmuN9XILv77c",
        "colab_type": "code",
        "outputId": "bd9f5821-3927-4a6a-ea7e-8364dafb4dfe",
        "colab": {
          "base_uri": "https://localhost:8080/",
          "height": 35
        }
      },
      "source": [
        "# save these 2 files to a folder \n",
        "from datetime import datetime\n",
        "\n",
        "# datetime object containing current date and time\n",
        "now = datetime.now()\n",
        "\n",
        "# Apr-02-2020_22-31-25\n",
        "dt_string = str(N_R)+'_'+now.strftime(\"%b-%d-%Y_%H-%M\")\n",
        "folder_string = 'Data_Balanced_'+dt_string\n",
        "\n",
        "print(folder_string)\n",
        "\n",
        "# stupid shell way of converting variable to string \n",
        "!mkdir \"$folder_string\"\n",
        "\n",
        "compression_opts_train = dict(method='zip', archive_name='Train_'+dt_string+'.csv')\n",
        "df_result_train.to_csv(folder_string+'/Train_'+dt_string+'.zip', index=False, compression=compression_opts_train) \n",
        "\n",
        "compression_opts_test = dict(method='zip', archive_name='Test_'+dt_string+'.csv')\n",
        "df_result_test.to_csv(folder_string+'/Test_'+dt_string+'.zip', index=False, compression=compression_opts_test) "
      ],
      "execution_count": 17,
      "outputs": [
        {
          "output_type": "stream",
          "text": [
            "Data_Balanced_100000_Apr-04-2020_06-54\n"
          ],
          "name": "stdout"
        }
      ]
    }
  ]
}