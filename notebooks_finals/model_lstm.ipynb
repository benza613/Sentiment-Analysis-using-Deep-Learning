{
  "nbformat": 4,
  "nbformat_minor": 0,
  "metadata": {
    "kernelspec": {
      "name": "python3",
      "display_name": "Python 3"
    },
    "pycharm": {
      "stem_cell": {
        "cell_type": "raw",
        "source": [],
        "metadata": {
          "collapsed": false
        }
      }
    },
    "colab": {
      "name": "Copy of model_lstm prf.ipynb",
      "provenance": [],
      "collapsed_sections": []
    }
  },
  "cells": [
    {
      "cell_type": "code",
      "metadata": {
        "id": "wGPgMSbNPpOX",
        "colab_type": "code",
        "colab": {}
      },
      "source": [
        "# create a notebook for LSTM prediction model \n",
        "\n",
        "# 1. Load the chosen dataset and try to see the vocab size \n",
        "# 2. Determine a MAX_VOCAB_SIZE incase you observe a vocab dict that is too large (choose the top/most frequent MAX_VOCAB_SIZE entries / Curse of dimensionality)\n",
        "# 3. Determine a MAX_SEQUENCE LENGTH to vectorize for each review (Note: From splitter usually reviews will be limited to 400 + summary )\n",
        "\n",
        "# DO NOT EDIT/ DELETE THIS BLOCK;\n",
        "\n"
      ],
      "execution_count": 0,
      "outputs": []
    },
    {
      "cell_type": "code",
      "metadata": {
        "id": "YoSwNmKToBLT",
        "colab_type": "code",
        "colab": {}
      },
      "source": [
        "from google.colab import drive\n",
        "drive.mount('/content/drive')"
      ],
      "execution_count": 0,
      "outputs": []
    },
    {
      "cell_type": "code",
      "metadata": {
        "id": "2qYW78oFoQnP",
        "colab_type": "code",
        "outputId": "233f21cc-eb29-4623-d670-fe071bfadd2f",
        "colab": {
          "base_uri": "https://localhost:8080/",
          "height": 35
        }
      },
      "source": [
        "# set working directory -> you must set the path into which you have uploaded the zipped file\n",
        "# this is required in the case of colab or local \n",
        "%cd /content/drive/My\\ Drive/SNLP\\ Project\n",
        "# %cd Source/repos/Sentiment-Analysis-using-Deep-Learning"
      ],
      "execution_count": 2,
      "outputs": [
        {
          "output_type": "stream",
          "text": [
            "/content/drive/My Drive/SNLP Project\n"
          ],
          "name": "stdout"
        }
      ]
    },
    {
      "cell_type": "code",
      "metadata": {
        "id": "1q-BzQJ4obkb",
        "colab_type": "code",
        "outputId": "6f6ad625-fc0f-4d86-9139-94fba3587fb4",
        "colab": {
          "base_uri": "https://localhost:8080/",
          "height": 164
        }
      },
      "source": [
        "# list content of drive - verify you are where you are supposed to be\n",
        "%ls"
      ],
      "execution_count": 3,
      "outputs": [
        {
          "output_type": "stream",
          "text": [
            " \u001b[0m\u001b[01;34mamz_all_beauty\u001b[0m/                    meta_lstm_small_200dim.tsv\n",
            " \u001b[01;34mamz_all_electronics\u001b[0m/               \u001b[01;34mModelResults\u001b[0m/\n",
            " CleantData_Apr-03-2020_01-31.zip   \u001b[01;34mModelVisualization\u001b[0m/\n",
            " dataset_dumps.json                'Project Ideas.gdoc'\n",
            " Electronics_5.json.gz             'Project Proposal.gdoc'\n",
            " \u001b[01;34mFinalModelResults\u001b[0m/                \u001b[01;34m'Report MetaData'\u001b[0m/\n",
            "\u001b[01;34m'Final Report'\u001b[0m/                    'Sentiment Analysis - Deep Learning.pptx'\n",
            " \u001b[01;34mLexical_analysis\u001b[0m/                  vecs_lstm_small_200dim.tsv\n"
          ],
          "name": "stdout"
        }
      ]
    },
    {
      "cell_type": "code",
      "metadata": {
        "id": "K9Kz7amjoljp",
        "colab_type": "code",
        "outputId": "de64642b-5cb9-49e6-e312-aa33334ed9eb",
        "colab": {
          "base_uri": "https://localhost:8080/",
          "height": 605
        }
      },
      "source": [
        "# load your choice of dataset here . Specify paths as folder_datestring/file_datestring.zip\n",
        "Train_ZipCSVFileName = 'amz_all_electronics/Data_Balanced_20000_Apr-03-2020_06-52/Train_20000_Apr-03-2020_06-52.zip'\n",
        "Test_ZipCSVFileName = 'amz_all_electronics/Data_Balanced_20000_Apr-03-2020_06-52/Test_20000_Apr-03-2020_06-52.zip'\n",
        "\n",
        "import pandas as pd\n",
        "import numpy as np\n",
        "\n",
        "\n",
        "df_train = pd.read_csv(Train_ZipCSVFileName)\n",
        "df_train.info()\n",
        "\n",
        "df_test = pd.read_csv(Test_ZipCSVFileName)\n",
        "df_test.info()\n"
      ],
      "execution_count": 4,
      "outputs": [
        {
          "output_type": "stream",
          "text": [
            "<class 'pandas.core.frame.DataFrame'>\n",
            "RangeIndex: 100000 entries, 0 to 99999\n",
            "Data columns (total 9 columns):\n",
            " #   Column          Non-Null Count   Dtype  \n",
            "---  ------          --------------   -----  \n",
            " 0   overall         100000 non-null  float64\n",
            " 1   reviewTime      100000 non-null  object \n",
            " 2   reviewerID      100000 non-null  object \n",
            " 3   asin            100000 non-null  object \n",
            " 4   reviewText      100000 non-null  object \n",
            " 5   summary         100000 non-null  object \n",
            " 6   unixReviewTime  100000 non-null  int64  \n",
            " 7   reviewText_len  100000 non-null  int64  \n",
            " 8   summary_len     100000 non-null  int64  \n",
            "dtypes: float64(1), int64(3), object(5)\n",
            "memory usage: 6.9+ MB\n",
            "<class 'pandas.core.frame.DataFrame'>\n",
            "RangeIndex: 10000 entries, 0 to 9999\n",
            "Data columns (total 9 columns):\n",
            " #   Column          Non-Null Count  Dtype  \n",
            "---  ------          --------------  -----  \n",
            " 0   overall         10000 non-null  float64\n",
            " 1   reviewTime      10000 non-null  object \n",
            " 2   reviewerID      10000 non-null  object \n",
            " 3   asin            10000 non-null  object \n",
            " 4   reviewText      10000 non-null  object \n",
            " 5   summary         10000 non-null  object \n",
            " 6   unixReviewTime  10000 non-null  int64  \n",
            " 7   reviewText_len  10000 non-null  int64  \n",
            " 8   summary_len     10000 non-null  int64  \n",
            "dtypes: float64(1), int64(3), object(5)\n",
            "memory usage: 703.2+ KB\n"
          ],
          "name": "stdout"
        }
      ]
    },
    {
      "cell_type": "code",
      "metadata": {
        "id": "mEPUIWc2pYRT",
        "colab_type": "code",
        "outputId": "63897b48-ffc9-4909-9ed9-9239457de32d",
        "colab": {
          "base_uri": "https://localhost:8080/",
          "height": 182
        }
      },
      "source": [
        "\n",
        "# Get names of indexes for which column Age has value 30\n",
        "index_neutrals_train = df_train[ df_train['overall'] == 3 ].index\n",
        "index_neutrals_test = df_test[ df_test['overall'] == 3 ].index\n",
        " \n",
        "# Delete these row indexes from dataFrame\n",
        "df_train.drop(index_neutrals_train , inplace=True)\n",
        "df_test.drop(index_neutrals_test , inplace=True)\n",
        "\n",
        "df_train.loc[(df_train.overall == 1),'overall']= 1\n",
        "df_train.loc[(df_train.overall == 2),'overall']= 1\n",
        "df_train.loc[(df_train.overall == 4),'overall']= 5\n",
        "df_train.loc[(df_train.overall == 5),'overall']= 5\n",
        "\n",
        "df_test.loc[(df_test.overall == 1),'overall']= 1\n",
        "df_test.loc[(df_test.overall == 2),'overall']= 1\n",
        "df_test.loc[(df_test.overall == 4),'overall']= 5\n",
        "df_test.loc[(df_test.overall == 5),'overall']= 5\n",
        "\n",
        "df_train['reviewText_len'].describe()\n",
        "# Since the mean average review size is around 145 chars and max is 400, I can safely set the max [summary + review] Text Limit to 400 \n",
        "\t"
      ],
      "execution_count": 5,
      "outputs": [
        {
          "output_type": "execute_result",
          "data": {
            "text/plain": [
              "count    80000.000000\n",
              "mean       148.534925\n",
              "std        109.884928\n",
              "min          1.000000\n",
              "25%         49.000000\n",
              "50%        129.000000\n",
              "75%        228.000000\n",
              "max        399.000000\n",
              "Name: reviewText_len, dtype: float64"
            ]
          },
          "metadata": {
            "tags": []
          },
          "execution_count": 5
        }
      ]
    },
    {
      "cell_type": "code",
      "metadata": {
        "id": "M7AXCZXYduHp",
        "colab_type": "code",
        "outputId": "0c31af53-5f3b-43fd-b95c-fa2e5c5cb207",
        "colab": {
          "base_uri": "https://localhost:8080/",
          "height": 182
        }
      },
      "source": [
        "df_train['overall'].describe()\n",
        "df_test['summary_len'].describe()"
      ],
      "execution_count": 6,
      "outputs": [
        {
          "output_type": "execute_result",
          "data": {
            "text/plain": [
              "count    8000.000000\n",
              "mean       14.786125\n",
              "std         7.736512\n",
              "min         2.000000\n",
              "25%         9.000000\n",
              "50%        11.000000\n",
              "75%        20.000000\n",
              "max        34.000000\n",
              "Name: summary_len, dtype: float64"
            ]
          },
          "metadata": {
            "tags": []
          },
          "execution_count": 6
        }
      ]
    },
    {
      "cell_type": "code",
      "metadata": {
        "id": "13adMhDFoQAP",
        "colab_type": "code",
        "colab": {}
      },
      "source": [
        "# The maximum number of words to be used. (most frequent)\n",
        "MAX_VOCAB_SIZE = 50000\n",
        "# Max number of words in each complaint.\n",
        "MAX_SEQUENCE_LENGTH = 250\n",
        "# This is fixed.\n",
        "EMBEDDING_DIM = 200\n",
        "\n",
        "import uuid\n",
        "folderGUID = uuid.uuid4().hex\n",
        "\n",
        "# stupid shell way of converting variable to string \n",
        "!mkdir \"ModelResults/v3_$folderGUID\""
      ],
      "execution_count": 0,
      "outputs": []
    },
    {
      "cell_type": "code",
      "metadata": {
        "id": "pGBHgCmFr496",
        "colab_type": "code",
        "colab": {}
      },
      "source": [
        "from tensorflow.keras.preprocessing.text import Tokenizer\n",
        "from tensorflow.keras.preprocessing.sequence import pad_sequences"
      ],
      "execution_count": 0,
      "outputs": []
    },
    {
      "cell_type": "code",
      "metadata": {
        "id": "SDpJYm15Psh8",
        "colab_type": "code",
        "outputId": "26f9c87e-14a8-49dc-e343-eca84d9cdf49",
        "colab": {
          "base_uri": "https://localhost:8080/",
          "height": 35
        }
      },
      "source": [
        "tokenizer = Tokenizer(num_words= MAX_VOCAB_SIZE, filters='#$%&()*+<=>@[\\\\]^_`{|}~\\t\\n', lower=True)\n",
        "tokenizer.fit_on_texts(df_train['summary'] + ' DELIM '+df_train['reviewText'])\n",
        "word_index = tokenizer.word_index\n",
        "print('Found %s unique tokens.' % len(word_index))"
      ],
      "execution_count": 9,
      "outputs": [
        {
          "output_type": "stream",
          "text": [
            "Found 29679 unique tokens.\n"
          ],
          "name": "stdout"
        }
      ]
    },
    {
      "cell_type": "code",
      "metadata": {
        "id": "wN0qwi2Hn57s",
        "colab_type": "code",
        "outputId": "896e52f2-2e5b-4e3b-bbb6-35c00a8ce7cd",
        "colab": {
          "base_uri": "https://localhost:8080/",
          "height": 127
        }
      },
      "source": [
        "\n",
        "print(df_train['summary'].values + ' DELIM '+ df_train['reviewText'].values)"
      ],
      "execution_count": 10,
      "outputs": [
        {
          "output_type": "stream",
          "text": [
            "['one star DELIM volum button were dead on arriv be awar of possibl defect'\n",
            " 'plug fall out DELIM work great when i tape up the plug to the port i see whi this was for sale other than that it work fine'\n",
            " 'do not buy DELIM did not work im sure the seller knew this befor he ship it out date and cannot be use at all those are word from the manufactur'\n",
            " ... 'five star DELIM the number of star say it all'\n",
            " 'five star DELIM good product thank'\n",
            " 'five star DELIM yet anoth awesom tripp lite product i put this into a rack case with a power amplifi']\n"
          ],
          "name": "stdout"
        }
      ]
    },
    {
      "cell_type": "code",
      "metadata": {
        "id": "0pjaMEuHVXnR",
        "colab_type": "code",
        "outputId": "8fdcb293-2dd2-417d-f249-ad6ab36a1fc2",
        "colab": {
          "base_uri": "https://localhost:8080/",
          "height": 35
        }
      },
      "source": [
        "X = tokenizer.texts_to_sequences(df_train['summary'].values + ' DELIM '+ df_train['reviewText'].values)\n",
        "X = pad_sequences(X, maxlen=MAX_SEQUENCE_LENGTH)\n",
        "print('Shape of data tensor:', X.shape)\n"
      ],
      "execution_count": 11,
      "outputs": [
        {
          "output_type": "stream",
          "text": [
            "Shape of data tensor: (80000, 250)\n"
          ],
          "name": "stdout"
        }
      ]
    },
    {
      "cell_type": "code",
      "metadata": {
        "id": "Jng1UISwsXxd",
        "colab_type": "code",
        "outputId": "a36887cd-0bf2-4ed1-af28-3727b24f9ea6",
        "colab": {
          "base_uri": "https://localhost:8080/",
          "height": 35
        }
      },
      "source": [
        "Y = pd.get_dummies(df_train['overall']).values\n",
        "print('Shape of label tensor:', Y.shape)"
      ],
      "execution_count": 12,
      "outputs": [
        {
          "output_type": "stream",
          "text": [
            "Shape of label tensor: (80000, 2)\n"
          ],
          "name": "stdout"
        }
      ]
    },
    {
      "cell_type": "markdown",
      "metadata": {
        "id": "X5GAk5mh-Wm-",
        "colab_type": "text"
      },
      "source": [
        "Function for metrics measurement"
      ]
    },
    {
      "cell_type": "code",
      "metadata": {
        "id": "eHMoH5j_-H1b",
        "colab_type": "code",
        "outputId": "e6d34844-22b8-4925-933e-99fa61f2719c",
        "colab": {
          "base_uri": "https://localhost:8080/",
          "height": 35
        }
      },
      "source": [
        "from keras import backend as K\n",
        "\n",
        "def recall_m(y_true, y_pred):\n",
        "    true_positives = K.sum(K.round(K.clip(y_true * y_pred, 0, 1)))\n",
        "    possible_positives = K.sum(K.round(K.clip(y_true, 0, 1)))\n",
        "    recall = true_positives / (possible_positives + K.epsilon())\n",
        "    return recall\n",
        "\n",
        "def precision_m(y_true, y_pred):\n",
        "    true_positives = K.sum(K.round(K.clip(y_true * y_pred, 0, 1)))\n",
        "    predicted_positives = K.sum(K.round(K.clip(y_pred, 0, 1)))\n",
        "    precision = true_positives / (predicted_positives + K.epsilon())\n",
        "    return precision\n",
        "\n",
        "def f1_m(y_true, y_pred):\n",
        "    precision = precision_m(y_true, y_pred)\n",
        "    recall = recall_m(y_true, y_pred)\n",
        "    return 2*((precision*recall)/(precision+recall+K.epsilon()))"
      ],
      "execution_count": 13,
      "outputs": [
        {
          "output_type": "stream",
          "text": [
            "Using TensorFlow backend.\n"
          ],
          "name": "stderr"
        }
      ]
    },
    {
      "cell_type": "code",
      "metadata": {
        "id": "kzu3hiE2strx",
        "colab_type": "code",
        "outputId": "7d5f590e-ab2c-4303-be70-a00168b136e0",
        "colab": {
          "base_uri": "https://localhost:8080/",
          "height": 127
        }
      },
      "source": [
        "from tensorflow.keras.models import Sequential\n",
        "from tensorflow.keras.layers import Dense, Embedding, LSTM, SpatialDropout1D\n",
        "from tensorflow.keras.callbacks import EarlyStopping\n",
        "from tensorflow.keras.layers import Dropout\n",
        "\n",
        "model = Sequential()\n",
        "model.add(Embedding(MAX_VOCAB_SIZE, EMBEDDING_DIM, input_length=X.shape[1]))\n",
        "model.add(LSTM(200, dropout = 0.2))\n",
        "model.add(Dense(2, activation='softmax'))\n",
        "model.compile(optimizer='adam',loss='binary_crossentropy',metrics=['accuracy',f1_m,precision_m, recall_m])\n",
        "\n",
        "# run for small number of epochs then save \n",
        "epochs = 3\n",
        "\n",
        "history = model.fit(X, Y, epochs=epochs)"
      ],
      "execution_count": 14,
      "outputs": [
        {
          "output_type": "stream",
          "text": [
            "Epoch 1/3\n",
            "2500/2500 [==============================] - 1884s 754ms/step - loss: 0.1763 - accuracy: 0.9318 - f1_m: 0.9318 - precision_m: 0.9318 - recall_m: 0.9318\n",
            "Epoch 2/3\n",
            "2500/2500 [==============================] - 1903s 761ms/step - loss: 0.0970 - accuracy: 0.9660 - f1_m: 0.9660 - precision_m: 0.9660 - recall_m: 0.9660\n",
            "Epoch 3/3\n",
            "2500/2500 [==============================] - 1918s 767ms/step - loss: 0.0690 - accuracy: 0.9759 - f1_m: 0.9759 - precision_m: 0.9759 - recall_m: 0.9759\n"
          ],
          "name": "stdout"
        }
      ]
    },
    {
      "cell_type": "code",
      "metadata": {
        "id": "5adje0Av6KyR",
        "colab_type": "code",
        "outputId": "32445399-5f2f-4139-b656-853836c54f96",
        "colab": {
          "base_uri": "https://localhost:8080/",
          "height": 34
        }
      },
      "source": [
        "# Save the model to Local Disk \n",
        "# https://stackoverflow.com/questions/45424683/how-to-continue-training-for-a-saved-and-then-loaded-keras-model\n",
        "\n",
        "filePath = \"ModelResults/v3_\"+str(folderGUID)+\"/model.h5\"\n",
        "model.save(filePath)\n",
        "print(\"Saved model to disk : \"+ str(folderGUID))\n",
        "\n"
      ],
      "execution_count": 0,
      "outputs": [
        {
          "output_type": "stream",
          "text": [
            "Saved model to disk : 304198720d8b4005829fd39ef76638b0\n"
          ],
          "name": "stdout"
        }
      ]
    },
    {
      "cell_type": "code",
      "metadata": {
        "id": "xaHU2gjz1TZc",
        "colab_type": "code",
        "colab": {
          "base_uri": "https://localhost:8080/",
          "height": 127
        },
        "outputId": "3549a309-b0d6-4e60-845c-25a59fcb2170"
      },
      "source": [
        "# Run additional training if necessary & remember to resave it \n",
        "#from tensorflow.keras.models import load_model\n",
        "#filePath = 'ModelResults/5eab2088768f4439824f997f86e64122/model.h5'\n",
        "# Load the model\n",
        "#model = load_model(filePath)\n",
        "\n",
        "# Train more on the loaded model\n",
        "history = model.fit(X, Y, epochs=epochs)\n",
        "\n"
      ],
      "execution_count": 16,
      "outputs": [
        {
          "output_type": "stream",
          "text": [
            "Epoch 1/3\n",
            "2500/2500 [==============================] - 1919s 767ms/step - loss: 0.0502 - accuracy: 0.9831 - f1_m: 0.9831 - precision_m: 0.9831 - recall_m: 0.9831\n",
            "Epoch 2/3\n",
            "2500/2500 [==============================] - 1906s 763ms/step - loss: 0.0361 - accuracy: 0.9881 - f1_m: 0.9881 - precision_m: 0.9881 - recall_m: 0.9881\n",
            "Epoch 3/3\n",
            "2500/2500 [==============================] - 1907s 763ms/step - loss: 0.0265 - accuracy: 0.9915 - f1_m: 0.9915 - precision_m: 0.9915 - recall_m: 0.9915\n"
          ],
          "name": "stdout"
        }
      ]
    },
    {
      "cell_type": "code",
      "metadata": {
        "id": "3x0o4hHdHzxe",
        "colab_type": "code",
        "outputId": "2c30f678-3195-472a-c041-efce78034b57",
        "colab": {
          "base_uri": "https://localhost:8080/",
          "height": 164
        }
      },
      "source": [
        "\n",
        "\n",
        "X_test = tokenizer.texts_to_sequences((df_test['summary'].values + ' DELIM '+ df_test['reviewText'].values))\n",
        "X_test = pad_sequences(X_test, maxlen=MAX_SEQUENCE_LENGTH)\n",
        "print('Shape of data tensor:', X_test.shape)\n",
        "\n",
        "Y_Test = pd.get_dummies(df_test['overall']).values\n",
        "print('Shape of label tensor:', Y_Test.shape)\n",
        "\n",
        "loss, accuracy, f1_score, precision, recall = model.evaluate(X_test, Y_Test)\n",
        "\n",
        "print(\"loss\",loss)\n",
        "print(\"accuracy\",accuracy)\n",
        "print(\"f1 score\",f1_score)\n",
        "print(\"precision\",precision)\n",
        "print(\"recall\",recall)"
      ],
      "execution_count": 15,
      "outputs": [
        {
          "output_type": "stream",
          "text": [
            "Shape of data tensor: (8000, 250)\n",
            "Shape of label tensor: (8000, 2)\n",
            "250/250 [==============================] - 52s 210ms/step - loss: 0.1326 - accuracy: 0.9524 - f1_m: 0.9524 - precision_m: 0.9524 - recall_m: 0.9524\n",
            "loss 0.13258370757102966\n",
            "accuracy 0.9523749947547913\n",
            "f1 score 0.9523749947547913\n",
            "precision 0.9523749947547913\n",
            "recall 0.9523749947547913\n"
          ],
          "name": "stdout"
        }
      ]
    },
    {
      "cell_type": "code",
      "metadata": {
        "id": "Rkg_d9COvrvJ",
        "colab_type": "code",
        "colab": {}
      },
      "source": [
        "import matplotlib.pyplot as plt\n",
        "\n",
        "\n",
        "plt.title('Loss')\n",
        "plt.plot(history.history['loss'], label='train')\n",
        "plt.legend()\n",
        "plt.show();\n",
        "\n",
        "plt.title('Accuracy')\n",
        "plt.plot(history.history['accuracy'], label='test')\n",
        "plt.legend()\n",
        "plt.show();\n"
      ],
      "execution_count": 0,
      "outputs": []
    },
    {
      "cell_type": "code",
      "metadata": {
        "id": "j1kpF-BFG47h",
        "colab_type": "code",
        "outputId": "7545225e-b233-4402-9cf9-ef9063018899",
        "colab": {
          "base_uri": "https://localhost:8080/",
          "height": 50
        }
      },
      "source": [
        "from sklearn.metrics import classification_report\n",
        "\n",
        "y_labels = df_test['overall'].values\n",
        "\n",
        "#all precision\n",
        "y_pred_softmax = model.predict(X_test)\n",
        "y_pred = list()\n",
        "\n",
        "# 1.0 for neg classes( argmax 0) and 5.0 for pos class (argmax 1)\n",
        "# its just for verbosity \n",
        "for local_pred in y_pred_softmax:\n",
        "  y_pred.append(1.0 if np.argmax(local_pred) == 0 else 5.0)\n",
        "\n",
        "print(classification_report(y_labels, y_pred, target_names=['Classified Neg','Classified Pos']))"
      ],
      "execution_count": 0,
      "outputs": [
        {
          "output_type": "stream",
          "text": [
            "[[0.28729853 0.71270144]]\n",
            "1\n"
          ],
          "name": "stdout"
        }
      ]
    }
  ]
}