{
  "nbformat": 4,
  "nbformat_minor": 0,
  "metadata": {
    "kernelspec": {
      "name": "python3",
      "display_name": "Python 3"
    },
    "pycharm": {
      "stem_cell": {
        "cell_type": "raw",
        "source": [],
        "metadata": {
          "collapsed": false
        }
      }
    },
    "colab": {
      "name": "Copy of model_lstm prf.ipynb",
      "provenance": [],
      "collapsed_sections": []
    }
  },
  "cells": [
    {
      "cell_type": "code",
      "metadata": {
        "id": "wGPgMSbNPpOX",
        "colab_type": "code",
        "colab": {}
      },
      "source": [
        "# DO NOT EDIT/ DELETE THIS BLOCK;\n",
        "#\n"
      ],
      "execution_count": 0,
      "outputs": []
    },
    {
      "cell_type": "code",
      "metadata": {
        "id": "YoSwNmKToBLT",
        "colab_type": "code",
        "colab": {
          "base_uri": "https://localhost:8080/",
          "height": 129
        },
        "outputId": "476fbaae-4565-4608-ac3a-270b50d619cd"
      },
      "source": [
        "# we have to load drive coz the models & dataset are there \n",
        "from google.colab import drive\n",
        "drive.mount('/content/drive')"
      ],
      "execution_count": 1,
      "outputs": [
        {
          "output_type": "stream",
          "text": [
            "Go to this URL in a browser: https://accounts.google.com/o/oauth2/auth?client_id=947318989803-6bn6qk8qdgf4n4g3pfee6491hc0brc4i.apps.googleusercontent.com&redirect_uri=urn%3aietf%3awg%3aoauth%3a2.0%3aoob&response_type=code&scope=email%20https%3a%2f%2fwww.googleapis.com%2fauth%2fdocs.test%20https%3a%2f%2fwww.googleapis.com%2fauth%2fdrive%20https%3a%2f%2fwww.googleapis.com%2fauth%2fdrive.photos.readonly%20https%3a%2f%2fwww.googleapis.com%2fauth%2fpeopleapi.readonly\n",
            "\n",
            "Enter your authorization code:\n",
            "··········\n",
            "Mounted at /content/drive\n"
          ],
          "name": "stdout"
        }
      ]
    },
    {
      "cell_type": "code",
      "metadata": {
        "id": "2qYW78oFoQnP",
        "colab_type": "code",
        "outputId": "47f02fcf-e0ce-41b4-8e35-a2342c4fd090",
        "colab": {
          "base_uri": "https://localhost:8080/",
          "height": 35
        }
      },
      "source": [
        "# set working directory -> you must set the path into which you have uploaded the zipped file\n",
        "# this is required in the case of colab or local \n",
        "%cd /content/drive/My\\ Drive/SNLP\\ Project\n",
        "# %cd Source/repos/Sentiment-Analysis-using-Deep-Learning"
      ],
      "execution_count": 2,
      "outputs": [
        {
          "output_type": "stream",
          "text": [
            "/content/drive/My Drive/SNLP Project\n"
          ],
          "name": "stdout"
        }
      ]
    },
    {
      "cell_type": "code",
      "metadata": {
        "id": "1q-BzQJ4obkb",
        "colab_type": "code",
        "outputId": "d4242d32-3746-4b8d-cd5b-8ae0a78c3e62",
        "colab": {
          "base_uri": "https://localhost:8080/",
          "height": 201
        }
      },
      "source": [
        "# list content of drive - verify you are where you are supposed to be\n",
        "%ls"
      ],
      "execution_count": 3,
      "outputs": [
        {
          "output_type": "stream",
          "text": [
            " \u001b[0m\u001b[01;34mamz_all_beauty\u001b[0m/                    meta_elec_small_lstm.tsv\n",
            " \u001b[01;34mamz_all_electronics\u001b[0m/               meta_lstm_small_200dim.tsv\n",
            " CleantData_Apr-03-2020_01-31.zip   \u001b[01;34mModelResults\u001b[0m/\n",
            " dataset_dumps.json                 \u001b[01;34mModelVisualization\u001b[0m/\n",
            " Electronics_5.json.gz             'Project Ideas.gdoc'\n",
            " \u001b[01;34mFinalModelResults\u001b[0m/                'Project Proposal.gdoc'\n",
            "\u001b[01;34m'Final Report'\u001b[0m/                    \u001b[01;34m'Report MetaData'\u001b[0m/\n",
            " glove.6B.200d.txt                 'Sentiment Analysis - Deep Learning.pptx'\n",
            " glove.6B.zip                       vecs_elec_small_lstm.tsv\n",
            " \u001b[01;34mLexical_analysis\u001b[0m/                  vecs_lstm_small_200dim.tsv\n"
          ],
          "name": "stdout"
        }
      ]
    },
    {
      "cell_type": "code",
      "metadata": {
        "id": "K9Kz7amjoljp",
        "colab_type": "code",
        "colab": {}
      },
      "source": [
        "# load your choice of dataset here . Specify paths as folder_datestring/file_datestring.zip\n",
        "\n",
        "data_corpus = {\n",
        "    'elec_small_lstm' : {\n",
        "        'model_path' : 'ModelResults/v3_767c02af219c4133946edcaf89e67387/model.h5',\n",
        "        'train_data_path' : 'amz_all_electronics/Data_Balanced_2000_Apr-03-2020_06-46/Train_2000_Apr-03-2020_06-46.zip',\n",
        "        'test_data_path' : 'amz_all_electronics/Data_Balanced_2000_Apr-03-2020_06-46/Test_2000_Apr-03-2020_06-46.zip',\n",
        "    },\n",
        "    'elec_med_lstm' : {\n",
        "        'model_path' : 'ModelResults/v3_lstm_1f9ff1c3924d4bac8894dda0fc3bf5bf/model.h5',\n",
        "        'train_data_path' : 'amz_all_electronics/Data_Balanced_20000_Apr-03-2020_06-52/Train_20000_Apr-03-2020_06-52.zip',\n",
        "        'test_data_path' : 'amz_all_electronics/Data_Balanced_20000_Apr-03-2020_06-52/Test_20000_Apr-03-2020_06-52.zip',\n",
        "    },\n",
        "    'elec_med_bilstm_glove' : {\n",
        "        'model_path' : 'ModelResults/v3_bilstm_glove_739665f6a8794e98b874bec09723d536/model.h5',\n",
        "        'train_data_path' : 'amz_all_electronics/Data_Balanced_20000_Apr-03-2020_06-52/Train_20000_Apr-03-2020_06-52.zip',\n",
        "        'test_data_path' : 'amz_all_electronics/Data_Balanced_20000_Apr-03-2020_06-52/Test_20000_Apr-03-2020_06-52.zip',\n",
        "    },\n",
        "    'elec_med_cnn_gru' : {\n",
        "        'model_path' : 'ModelResults/v3_cnn_gru_2_5123azxc1abe9af33fd580bf998285182/model.h5',\n",
        "        'train_data_path' : 'amz_all_electronics/Data_Balanced_20000_Apr-03-2020_06-52/Train_20000_Apr-03-2020_06-52.zip',\n",
        "        'test_data_path' : 'amz_all_electronics/Data_Balanced_20000_Apr-03-2020_06-52/Test_20000_Apr-03-2020_06-52.zip',\n",
        "    },    \n",
        "}\n",
        "\n",
        "\n",
        "# GLOBAL VARIABLE -> which model u want to load \n",
        "CHOSEN_MODEL_TO_LOAD = 'elec_med_bilstm_glove'\n",
        "\n"
      ],
      "execution_count": 0,
      "outputs": []
    },
    {
      "cell_type": "code",
      "metadata": {
        "id": "MVtFQOq64PEl",
        "colab_type": "code",
        "colab": {
          "base_uri": "https://localhost:8080/",
          "height": 605
        },
        "outputId": "ba7b711b-c4da-49ae-9c84-1b2ae67b16f8"
      },
      "source": [
        "Train_ZipCSVFileName = data_corpus[CHOSEN_MODEL_TO_LOAD]['train_data_path']\n",
        "Test_ZipCSVFileName = data_corpus[CHOSEN_MODEL_TO_LOAD]['test_data_path']\n",
        "\n",
        "import pandas as pd\n",
        "import numpy as np\n",
        "\n",
        "\n",
        "df_train = pd.read_csv(Train_ZipCSVFileName)\n",
        "df_train.info()\n",
        "\n",
        "df_test = pd.read_csv(Test_ZipCSVFileName)\n",
        "df_test.info()"
      ],
      "execution_count": 46,
      "outputs": [
        {
          "output_type": "stream",
          "text": [
            "<class 'pandas.core.frame.DataFrame'>\n",
            "RangeIndex: 100000 entries, 0 to 99999\n",
            "Data columns (total 9 columns):\n",
            " #   Column          Non-Null Count   Dtype  \n",
            "---  ------          --------------   -----  \n",
            " 0   overall         100000 non-null  float64\n",
            " 1   reviewTime      100000 non-null  object \n",
            " 2   reviewerID      100000 non-null  object \n",
            " 3   asin            100000 non-null  object \n",
            " 4   reviewText      100000 non-null  object \n",
            " 5   summary         100000 non-null  object \n",
            " 6   unixReviewTime  100000 non-null  int64  \n",
            " 7   reviewText_len  100000 non-null  int64  \n",
            " 8   summary_len     100000 non-null  int64  \n",
            "dtypes: float64(1), int64(3), object(5)\n",
            "memory usage: 6.9+ MB\n",
            "<class 'pandas.core.frame.DataFrame'>\n",
            "RangeIndex: 10000 entries, 0 to 9999\n",
            "Data columns (total 9 columns):\n",
            " #   Column          Non-Null Count  Dtype  \n",
            "---  ------          --------------  -----  \n",
            " 0   overall         10000 non-null  float64\n",
            " 1   reviewTime      10000 non-null  object \n",
            " 2   reviewerID      10000 non-null  object \n",
            " 3   asin            10000 non-null  object \n",
            " 4   reviewText      10000 non-null  object \n",
            " 5   summary         10000 non-null  object \n",
            " 6   unixReviewTime  10000 non-null  int64  \n",
            " 7   reviewText_len  10000 non-null  int64  \n",
            " 8   summary_len     10000 non-null  int64  \n",
            "dtypes: float64(1), int64(3), object(5)\n",
            "memory usage: 703.2+ KB\n"
          ],
          "name": "stdout"
        }
      ]
    },
    {
      "cell_type": "code",
      "metadata": {
        "id": "mEPUIWc2pYRT",
        "colab_type": "code",
        "outputId": "3f94c26d-033a-4b6a-c8cb-05f93985c620",
        "colab": {
          "base_uri": "https://localhost:8080/",
          "height": 182
        }
      },
      "source": [
        "\n",
        "# Get names of indexes for which column Age has value 30\n",
        "index_neutrals_train = df_train[ df_train['overall'] == 3 ].index\n",
        "index_neutrals_test = df_test[ df_test['overall'] == 3 ].index\n",
        " \n",
        "# Delete these row indexes from dataFrame\n",
        "df_train.drop(index_neutrals_train , inplace=True)\n",
        "df_test.drop(index_neutrals_test , inplace=True)\n",
        "\n",
        "df_train.loc[(df_train.overall == 1),'overall']= 1\n",
        "df_train.loc[(df_train.overall == 2),'overall']= 1\n",
        "df_train.loc[(df_train.overall == 4),'overall']= 5\n",
        "df_train.loc[(df_train.overall == 5),'overall']= 5\n",
        "\n",
        "df_test.loc[(df_test.overall == 1),'overall']= 1\n",
        "df_test.loc[(df_test.overall == 2),'overall']= 1\n",
        "df_test.loc[(df_test.overall == 4),'overall']= 5\n",
        "df_test.loc[(df_test.overall == 5),'overall']= 5\n",
        "\n",
        "df_train['reviewText_len'].describe()\n",
        "# Since the mean average review size is around 145 chars and max is 400, I can safely set the max [summary + review] Text Limit to 400 \n",
        "\t"
      ],
      "execution_count": 47,
      "outputs": [
        {
          "output_type": "execute_result",
          "data": {
            "text/plain": [
              "count    80000.000000\n",
              "mean       148.534925\n",
              "std        109.884928\n",
              "min          1.000000\n",
              "25%         49.000000\n",
              "50%        129.000000\n",
              "75%        228.000000\n",
              "max        399.000000\n",
              "Name: reviewText_len, dtype: float64"
            ]
          },
          "metadata": {
            "tags": []
          },
          "execution_count": 47
        }
      ]
    },
    {
      "cell_type": "code",
      "metadata": {
        "id": "13adMhDFoQAP",
        "colab_type": "code",
        "colab": {
          "base_uri": "https://localhost:8080/",
          "height": 35
        },
        "outputId": "669d45e5-861b-4cbf-944d-b130b399a717"
      },
      "source": [
        "# Tokenize the data\n",
        "# The maximum number of words to be used. (most frequent)\n",
        "MAX_VOCAB_SIZE = 50000\n",
        "# Max number of words in each segment.\n",
        "MAX_SEQUENCE_LENGTH = 250\n",
        "\n",
        "# Reference https://www.tensorflow.org/api_docs/python/tf/keras/preprocessing/text/Tokenizer\n",
        "from tensorflow.keras.preprocessing.text import Tokenizer\n",
        "from tensorflow.keras.preprocessing.sequence import pad_sequences\n",
        "\n",
        "\n",
        "tokenizer = Tokenizer(num_words= MAX_VOCAB_SIZE, lower=True)\n",
        "tokenizer.fit_on_texts(df_train['summary'] + ' DELIM '+ df_train['reviewText'])\n",
        "word_index = tokenizer.word_index\n",
        "print('Found %s unique tokens.' % len(word_index))"
      ],
      "execution_count": 48,
      "outputs": [
        {
          "output_type": "stream",
          "text": [
            "Found 26904 unique tokens.\n"
          ],
          "name": "stdout"
        }
      ]
    },
    {
      "cell_type": "code",
      "metadata": {
        "id": "xaHU2gjz1TZc",
        "colab_type": "code",
        "colab": {}
      },
      "source": [
        "# we have the word dict now lets load the trained model \n",
        "from tensorflow.keras.models import load_model\n",
        "# Load the model\n",
        "model = load_model(data_corpus[CHOSEN_MODEL_TO_LOAD]['model_path'])\n",
        "\n"
      ],
      "execution_count": 0,
      "outputs": []
    },
    {
      "cell_type": "code",
      "metadata": {
        "id": "n8Dajki944V_",
        "colab_type": "code",
        "colab": {
          "base_uri": "https://localhost:8080/",
          "height": 54
        },
        "outputId": "51c2113b-139f-4281-9ed9-b5eea41542ee"
      },
      "source": [
        "# TEST YOUR REVIEW HERE \n",
        "# sample reviews if needed https://www.amazon.com/s?k=smartphones\n",
        "\n",
        "#user_demo_summary = \"Great samsung s10\"\n",
        "#user_demo_review  = \"I had a great experience buying this phone! I have been using it so long now, the battery is a bit bad but overall it works fine. The touch screen is immaculate\"\n",
        "\n",
        "\n",
        "user_demo_summary = \"2 year old samsung s10\"\n",
        "user_demo_review  = \"I had a decent experience since I bought this phone. I have been using it so long now, the battery is not too good but overall it works fine. The touch screen is sort of working\"\n",
        "\n",
        "\n",
        "\n",
        "\n",
        "seq = tokenizer.texts_to_sequences([user_demo_summary+ ' DELIM '+ user_demo_review])\n",
        "padded = pad_sequences(seq, maxlen=MAX_SEQUENCE_LENGTH)\n",
        "pred = model.predict(padded)\n",
        "\n",
        "\n",
        "print(pred)\n",
        "if np.argmax(pred) == 0:\n",
        "  print('Overall Sentiment Negative :(')\n",
        "else:\n",
        "  print('Overall Sentiment Positive :)')\n",
        "  "
      ],
      "execution_count": 52,
      "outputs": [
        {
          "output_type": "stream",
          "text": [
            "[[0.9468437  0.05476103]]\n",
            "Overall Sentiment Negative :(\n"
          ],
          "name": "stdout"
        }
      ]
    }
  ]
}